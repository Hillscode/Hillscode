{
 "cells": [
  {
   "cell_type": "code",
   "execution_count": 2,
   "id": "46aa1d9b",
   "metadata": {},
   "outputs": [
    {
     "name": "stdout",
     "output_type": "stream",
     "text": [
      "500000.0\n",
      "4500000.0\n"
     ]
    }
   ],
   "source": [
    "# The current volume of a water reservoir (in cubic metres)\n",
    "reservoir_volume = 4.445e8\n",
    "# The amount of rainfall from a storm (in cubic metres)\n",
    "rainfall = 5e6\n",
    "runoff=0.1*rainfall\n",
    "print(runoff)\n",
    "rainfall-=runoff\n",
    "print(rainfall)\n",
    "# Use the multiplication assignment operator to decrease the rainfall variable by 10% to account for runoff\n"
   ]
  },
  {
   "cell_type": "code",
   "execution_count": 4,
   "id": "9c85c5a5",
   "metadata": {},
   "outputs": [
    {
     "name": "stdout",
     "output_type": "stream",
     "text": [
      "449000000.0\n"
     ]
    }
   ],
   "source": [
    "# Use the addition assigment operator to add the rainfall variable to the reservoir_volume variable\n",
    "reservoir_volume+=rainfall\n",
    "print(reservoir_volume)"
   ]
  },
  {
   "cell_type": "code",
   "execution_count": null,
   "id": "7721cedf",
   "metadata": {},
   "outputs": [],
   "source": [
    "# Use the multiplication assignment operator to decrease \n",
    "# reservoir_volume by 5% to account for evaporation\n",
    "evap=0.05*reservoir_volume\n",
    "reservoir_volume-=evap\n",
    "print(reservoir_volume)"
   ]
  },
  {
   "cell_type": "code",
   "execution_count": 6,
   "id": "63839886",
   "metadata": {},
   "outputs": [
    {
     "name": "stdout",
     "output_type": "stream",
     "text": [
      "471450000.0\n"
     ]
    }
   ],
   "source": [
    "# Use the multiplication assignment operator to increase reservoir_volume by 5% to account for stormwater that \n",
    "# flows into the reservoir in the days following the storm\n",
    "storm_water=0.05*reservoir_volume\n",
    "reservoir_volume+=storm_water\n",
    "print(reservoir_volume)"
   ]
  },
  {
   "cell_type": "code",
   "execution_count": 7,
   "id": "6f915304",
   "metadata": {},
   "outputs": [
    {
     "name": "stdout",
     "output_type": "stream",
     "text": [
      "471200000.0\n"
     ]
    }
   ],
   "source": [
    "#Use the subtraction assignment operator to subtract \n",
    "# 2.5e5 cubic metres from reservoir_volume to account \n",
    "# for water that's piped to arid regions.\n",
    "reservoir_volume-=2.5e5\n",
    "print(reservoir_volume)"
   ]
  },
  {
   "cell_type": "code",
   "execution_count": 8,
   "id": "d79594e6",
   "metadata": {},
   "outputs": [
    {
     "data": {
      "text/plain": [
       "[1, 2, 'goat', True, 2.3, '345']"
      ]
     },
     "execution_count": 8,
     "metadata": {},
     "output_type": "execute_result"
    }
   ],
   "source": [
    "list_random=[1,2,'goat',True,2.3,'345']\n",
    "list_random"
   ]
  },
  {
   "cell_type": "code",
   "execution_count": 11,
   "id": "feac38f6",
   "metadata": {},
   "outputs": [
    {
     "data": {
      "text/plain": [
       "'345'"
      ]
     },
     "execution_count": 11,
     "metadata": {},
     "output_type": "execute_result"
    }
   ],
   "source": [
    "list_random[len(list_random)-1]"
   ]
  },
  {
   "cell_type": "code",
   "execution_count": 12,
   "id": "cf6520ee",
   "metadata": {},
   "outputs": [
    {
     "data": {
      "text/plain": [
       "True"
      ]
     },
     "execution_count": 12,
     "metadata": {},
     "output_type": "execute_result"
    }
   ],
   "source": [
    "list_random[3]"
   ]
  },
  {
   "cell_type": "code",
   "execution_count": 17,
   "id": "ad6e1fa2",
   "metadata": {},
   "outputs": [
    {
     "data": {
      "text/plain": [
       "'dog is'"
      ]
     },
     "execution_count": 17,
     "metadata": {},
     "output_type": "execute_result"
    }
   ],
   "source": [
    "verse=\"My dog is massive\"\n",
    "verse[3:9]"
   ]
  },
  {
   "cell_type": "code",
   "execution_count": 18,
   "id": "ca189c62",
   "metadata": {},
   "outputs": [
    {
     "data": {
      "text/plain": [
       "True"
      ]
     },
     "execution_count": 18,
     "metadata": {},
     "output_type": "execute_result"
    }
   ],
   "source": [
    "2 in list_random"
   ]
  },
  {
   "cell_type": "code",
   "execution_count": 19,
   "id": "a68ef621",
   "metadata": {},
   "outputs": [
    {
     "data": {
      "text/plain": [
       "True"
      ]
     },
     "execution_count": 19,
     "metadata": {},
     "output_type": "execute_result"
    }
   ],
   "source": [
    "'d'in verse"
   ]
  },
  {
   "cell_type": "code",
   "execution_count": 21,
   "id": "0467054c",
   "metadata": {},
   "outputs": [
    {
     "data": {
      "text/plain": [
       "'jim'"
      ]
     },
     "execution_count": 21,
     "metadata": {},
     "output_type": "execute_result"
    }
   ],
   "source": [
    "name='jim'\n",
    "student=name\n",
    "name='kim'\n",
    "student"
   ]
  },
  {
   "cell_type": "code",
   "execution_count": null,
   "id": "51ebe204",
   "metadata": {},
   "outputs": [],
   "source": []
  }
 ],
 "metadata": {
  "kernelspec": {
   "display_name": "Python 3",
   "language": "python",
   "name": "python3"
  },
  "language_info": {
   "codemirror_mode": {
    "name": "ipython",
    "version": 3
   },
   "file_extension": ".py",
   "mimetype": "text/x-python",
   "name": "python",
   "nbconvert_exporter": "python",
   "pygments_lexer": "ipython3",
   "version": "3.8.8"
  }
 },
 "nbformat": 4,
 "nbformat_minor": 5
}
