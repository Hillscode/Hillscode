{
 "cells": [
  {
   "cell_type": "code",
   "execution_count": 1,
   "id": "1a79ff78",
   "metadata": {},
   "outputs": [
    {
     "name": "stdout",
     "output_type": "stream",
     "text": [
      "Requirement already satisfied: requests in c:\\users\\pc\\anaconda3\\lib\\site-packages (2.25.1)Note: you may need to restart the kernel to use updated packages.\n",
      "\n",
      "Requirement already satisfied: idna<3,>=2.5 in c:\\users\\pc\\anaconda3\\lib\\site-packages (from requests) (2.10)\n",
      "Requirement already satisfied: certifi>=2017.4.17 in c:\\users\\pc\\anaconda3\\lib\\site-packages (from requests) (2022.12.7)\n",
      "Requirement already satisfied: chardet<5,>=3.0.2 in c:\\users\\pc\\anaconda3\\lib\\site-packages (from requests) (4.0.0)\n",
      "Requirement already satisfied: urllib3<1.27,>=1.21.1 in c:\\users\\pc\\anaconda3\\lib\\site-packages (from requests) (1.26.4)\n"
     ]
    }
   ],
   "source": [
    "pip install requests"
   ]
  },
  {
   "cell_type": "code",
   "execution_count": 2,
   "id": "96f1de4f",
   "metadata": {},
   "outputs": [],
   "source": [
    "from bs4 import BeautifulSoup"
   ]
  },
  {
   "cell_type": "code",
   "execution_count": 3,
   "id": "ed058c42",
   "metadata": {},
   "outputs": [],
   "source": [
    "import requests"
   ]
  },
  {
   "cell_type": "code",
   "execution_count": 4,
   "id": "d099ba76",
   "metadata": {},
   "outputs": [],
   "source": [
    "potto=requests.get('https://news.ycombinator.com/')"
   ]
  },
  {
   "cell_type": "code",
   "execution_count": 5,
   "id": "c7709ed3",
   "metadata": {},
   "outputs": [],
   "source": [
    "potto=BeautifulSoup(potto.text, 'html.parser')"
   ]
  },
  {
   "cell_type": "code",
   "execution_count": 6,
   "id": "17379420",
   "metadata": {},
   "outputs": [
    {
     "data": {
      "text/plain": [
       "[<span class=\"titleline\"><a href=\"https://blog.qartis.com/decoding-small-qr-codes-by-hand/\">How to Decode QR Code on Your Own (Without Camera Scan)</a><span class=\"sitebit comhead\"> (<a href=\"from?site=qartis.com\"><span class=\"sitestr\">qartis.com</span></a>)</span></span>,\n",
       " <span class=\"titleline\"><a href=\"https://brute.fail/\">Brute.Fail: Watch brute force attacks fail in real time</a><span class=\"sitebit comhead\"> (<a href=\"from?site=brute.fail\"><span class=\"sitestr\">brute.fail</span></a>)</span></span>,\n",
       " <span class=\"titleline\"><a href=\"https://discourse.nixos.org/t/the-nixos-foundations-call-to-action-s3-costs-require-community-support/28672\">The NixOS Foundation’s Call to Action: S3 Costs Require Community Support</a><span class=\"sitebit comhead\"> (<a href=\"from?site=nixos.org\"><span class=\"sitestr\">nixos.org</span></a>)</span></span>,\n",
       " <span class=\"titleline\"><a href=\"https://www.filfre.net/2023/06/tomb-raider/\">Tomb Raider</a><span class=\"sitebit comhead\"> (<a href=\"from?site=filfre.net\"><span class=\"sitestr\">filfre.net</span></a>)</span></span>,\n",
       " <span class=\"titleline\"><a href=\"https://www.bihealth.org/en/notices/intelligent-brains-take-longer-to-solve-difficult-problems\">Intelligent Brains Take Longer to Solve Difficult Problems</a><span class=\"sitebit comhead\"> (<a href=\"from?site=bihealth.org\"><span class=\"sitestr\">bihealth.org</span></a>)</span></span>,\n",
       " <span class=\"titleline\"><a href=\"https://bitmovin.com/careers/6523970002/\" rel=\"nofollow\">Bitmovin (YC S15) Is Hiring an Engineering Manager in Austria</a><span class=\"sitebit comhead\"> (<a href=\"from?site=bitmovin.com\"><span class=\"sitestr\">bitmovin.com</span></a>)</span></span>,\n",
       " <span class=\"titleline\"><a href=\"https://arxiv.org/abs/2306.00008\">Brainformers: Trading Simplicity for Efficiency</a><span class=\"sitebit comhead\"> (<a href=\"from?site=arxiv.org\"><span class=\"sitestr\">arxiv.org</span></a>)</span></span>,\n",
       " <span class=\"titleline\"><a href=\"https://www.grumpygamer.com/speed_running_mi\">Speed running Monkey Island</a><span class=\"sitebit comhead\"> (<a href=\"from?site=grumpygamer.com\"><span class=\"sitestr\">grumpygamer.com</span></a>)</span></span>,\n",
       " <span class=\"titleline\"><a href=\"https://news.mit.edu/2023/gilbert-strang-made-linear-algebra-fun-0531\">He made linear algebra fun</a><span class=\"sitebit comhead\"> (<a href=\"from?site=news.mit.edu\"><span class=\"sitestr\">news.mit.edu</span></a>)</span></span>,\n",
       " <span class=\"titleline\"><a href=\"https://www.niskanencenter.org/the-planning-of-u-s-physician-shortages/\">The planning of U.S. physician shortages (2020)</a><span class=\"sitebit comhead\"> (<a href=\"from?site=niskanencenter.org\"><span class=\"sitestr\">niskanencenter.org</span></a>)</span></span>,\n",
       " <span class=\"titleline\"><a href=\"https://publicdomainreview.org/essay/raul-grigera-black-dandy-of-buenos-aires\">The Black Dandy of Buenos Aires</a><span class=\"sitebit comhead\"> (<a href=\"from?site=publicdomainreview.org\"><span class=\"sitestr\">publicdomainreview.org</span></a>)</span></span>,\n",
       " <span class=\"titleline\"><a href=\"https://www.mattb.nz/w/2023/06/02/calling-time-on-dnssec/\">Calling time on DNSSEC: The costs exceed the benefits</a><span class=\"sitebit comhead\"> (<a href=\"from?site=mattb.nz\"><span class=\"sitestr\">mattb.nz</span></a>)</span></span>,\n",
       " <span class=\"titleline\"><a href=\"https://github.com/facebookincubator/AITemplate\">Render a neural network into CUDA/HIP code</a><span class=\"sitebit comhead\"> (<a href=\"from?site=github.com/facebookincubator\"><span class=\"sitestr\">github.com/facebookincubator</span></a>)</span></span>,\n",
       " <span class=\"titleline\"><a href=\"https://www.nature.com/articles/s42256-023-00666-w\">In vitro biological system of cultured brain cells has learned to play Pong</a><span class=\"sitebit comhead\"> (<a href=\"from?site=nature.com\"><span class=\"sitestr\">nature.com</span></a>)</span></span>,\n",
       " <span class=\"titleline\"><a href=\"https://www.uclahealth.org/news/deep-brain-stimulation-during-sleep-strengthens-memory\">Deep-brain stimulation during sleep strengthens memory: study</a><span class=\"sitebit comhead\"> (<a href=\"from?site=uclahealth.org\"><span class=\"sitestr\">uclahealth.org</span></a>)</span></span>,\n",
       " <span class=\"titleline\"><a href=\"https://elifesciences.org/reviewed-preprints/87414v1\">Teen neurostimulation of dopamine circuit reverses genetic deficits in PF cortex</a><span class=\"sitebit comhead\"> (<a href=\"from?site=elifesciences.org\"><span class=\"sitestr\">elifesciences.org</span></a>)</span></span>,\n",
       " <span class=\"titleline\"><a href=\"https://www.wired.com/story/web-deanonymization-side-channel-attack-njit/\">A new attack can unmask anonymous users on any major browser (2022)</a><span class=\"sitebit comhead\"> (<a href=\"from?site=wired.com\"><span class=\"sitestr\">wired.com</span></a>)</span></span>,\n",
       " <span class=\"titleline\"><a href=\"https://www.nytimes.com/2023/06/01/style/when-the-neighbors-dont-share-your-vision-and-that-vision-involves-transformers-statues.html\">When the Neighbors Don’t Like Your 10-Foot-Tall Transformer Statues</a><span class=\"sitebit comhead\"> (<a href=\"from?site=nytimes.com\"><span class=\"sitestr\">nytimes.com</span></a>)</span></span>,\n",
       " <span class=\"titleline\"><a href=\"https://www.axios.com/2023/06/02/supreme-court-sides-with-slack-putting-direct-listings-in-jeopardy\">Supreme Court sides with Slack, putting direct listings in jeopardy</a><span class=\"sitebit comhead\"> (<a href=\"from?site=axios.com\"><span class=\"sitestr\">axios.com</span></a>)</span></span>,\n",
       " <span class=\"titleline\"><a href=\"https://ukragroconsult.com/en/news/brazil-develops-tropical-wheat-and-predicts-self-sufficiency-in-5-years/\">Brazil develops tropical wheat and predicts self-sufficiency in 5 years</a><span class=\"sitebit comhead\"> (<a href=\"from?site=ukragroconsult.com\"><span class=\"sitestr\">ukragroconsult.com</span></a>)</span></span>,\n",
       " <span class=\"titleline\"><a href=\"https://library.stanford.edu/blogs/digital-library-blog/2023/03/stanford-libraries-launches-taube-archive-international-military\">Archive of the Military Tribunal at Nuremberg, 1945-46</a><span class=\"sitebit comhead\"> (<a href=\"from?site=stanford.edu\"><span class=\"sitestr\">stanford.edu</span></a>)</span></span>,\n",
       " <span class=\"titleline\"><a href=\"https://www.allaboutcircuits.com/news/sifive-gives-its-worldguard-security-model-to-the-risc-v-community/\">SiFive Gives Its WorldGuard Security Model to the RISC-V Community</a><span class=\"sitebit comhead\"> (<a href=\"from?site=allaboutcircuits.com\"><span class=\"sitestr\">allaboutcircuits.com</span></a>)</span></span>,\n",
       " <span class=\"titleline\"><a href=\"https://www.popsci.com/technology/notre-dame-reconstruction-medieval-tools/\">Workers rely on medieval era tech to reconstruct the Notre Dame</a><span class=\"sitebit comhead\"> (<a href=\"from?site=popsci.com\"><span class=\"sitestr\">popsci.com</span></a>)</span></span>,\n",
       " <span class=\"titleline\"><a href=\"https://mcgst.com/2020/12/01/27-years-later-and-the-psion-3a-is-still-wonderful/\">27 years later and the Psion 3a is still wonderful (2020)</a><span class=\"sitebit comhead\"> (<a href=\"from?site=mcgst.com\"><span class=\"sitestr\">mcgst.com</span></a>)</span></span>,\n",
       " <span class=\"titleline\"><a href=\"https://jamanetwork.com/journals/jamanetworkopen/fullarticle/2804215\">Effect of repeated low-level red light on myopia prevention</a><span class=\"sitebit comhead\"> (<a href=\"from?site=jamanetwork.com\"><span class=\"sitestr\">jamanetwork.com</span></a>)</span></span>,\n",
       " <span class=\"titleline\"><a href=\"https://www.ryanjuckett.com/damped-springs/\" rel=\"nofollow\">Damped Springs</a><span class=\"sitebit comhead\"> (<a href=\"from?site=ryanjuckett.com\"><span class=\"sitestr\">ryanjuckett.com</span></a>)</span></span>,\n",
       " <span class=\"titleline\"><a href=\"https://dangerousminds.net/comments/kenneth_anger_rip_the_magus_of_american_cinema_dead_at_96\">Kenneth Anger has died</a><span class=\"sitebit comhead\"> (<a href=\"from?site=dangerousminds.net\"><span class=\"sitestr\">dangerousminds.net</span></a>)</span></span>,\n",
       " <span class=\"titleline\"><a href=\"http://www.cr31.co.uk/stagecast/trains/tt0_int.html\">Turing Trains</a><span class=\"sitebit comhead\"> (<a href=\"from?site=cr31.co.uk\"><span class=\"sitestr\">cr31.co.uk</span></a>)</span></span>,\n",
       " <span class=\"titleline\"><a href=\"https://www.open.edu/openlearn/money-management/management/leadership-and-management/managing/systems-explained-humberto-maturana\">Systems explained by Humberto Maturana (2021)</a><span class=\"sitebit comhead\"> (<a href=\"from?site=open.edu\"><span class=\"sitestr\">open.edu</span></a>)</span></span>,\n",
       " <span class=\"titleline\"><a href=\"https://github.com/mateogianolio/vectorious\">Vectorious: BLAS-accelerated linear algebra for TypeScript</a><span class=\"sitebit comhead\"> (<a href=\"from?site=github.com/mateogianolio\"><span class=\"sitestr\">github.com/mateogianolio</span></a>)</span></span>]"
      ]
     },
     "execution_count": 6,
     "metadata": {},
     "output_type": "execute_result"
    }
   ],
   "source": [
    "links=potto.select('.titleline')\n",
    "links"
   ]
  },
  {
   "cell_type": "code",
   "execution_count": 7,
   "id": "80863491",
   "metadata": {
    "scrolled": true
   },
   "outputs": [
    {
     "data": {
      "text/plain": [
       "[<span class=\"score\" id=\"score_36173441\">80 points</span>,\n",
       " <span class=\"score\" id=\"score_36169954\">476 points</span>,\n",
       " <span class=\"score\" id=\"score_36173020\">161 points</span>,\n",
       " <span class=\"score\" id=\"score_36172426\">92 points</span>,\n",
       " <span class=\"score\" id=\"score_36172461\">128 points</span>,\n",
       " <span class=\"score\" id=\"score_36173327\">23 points</span>,\n",
       " <span class=\"score\" id=\"score_36169019\">197 points</span>,\n",
       " <span class=\"score\" id=\"score_36168068\">269 points</span>,\n",
       " <span class=\"score\" id=\"score_36158656\">96 points</span>,\n",
       " <span class=\"score\" id=\"score_36160497\">10 points</span>,\n",
       " <span class=\"score\" id=\"score_36171696\">66 points</span>,\n",
       " <span class=\"score\" id=\"score_36167948\">154 points</span>,\n",
       " <span class=\"score\" id=\"score_36169486\">111 points</span>,\n",
       " <span class=\"score\" id=\"score_36170157\">50 points</span>,\n",
       " <span class=\"score\" id=\"score_36172677\">34 points</span>,\n",
       " <span class=\"score\" id=\"score_36169513\">114 points</span>,\n",
       " <span class=\"score\" id=\"score_36161156\">34 points</span>,\n",
       " <span class=\"score\" id=\"score_36171591\">98 points</span>,\n",
       " <span class=\"score\" id=\"score_36172306\">160 points</span>,\n",
       " <span class=\"score\" id=\"score_36146988\">105 points</span>,\n",
       " <span class=\"score\" id=\"score_36168836\">73 points</span>,\n",
       " <span class=\"score\" id=\"score_36166685\">100 points</span>,\n",
       " <span class=\"score\" id=\"score_36162265\">298 points</span>,\n",
       " <span class=\"score\" id=\"score_36168468\">109 points</span>,\n",
       " <span class=\"score\" id=\"score_36163326\">4 points</span>,\n",
       " <span class=\"score\" id=\"score_36167694\">90 points</span>,\n",
       " <span class=\"score\" id=\"score_36163955\">40 points</span>,\n",
       " <span class=\"score\" id=\"score_36169523\">59 points</span>,\n",
       " <span class=\"score\" id=\"score_36172884\">22 points</span>]"
      ]
     },
     "execution_count": 7,
     "metadata": {},
     "output_type": "execute_result"
    }
   ],
   "source": [
    "votes=potto.select(\".score\")\n",
    "votes"
   ]
  },
  {
   "cell_type": "code",
   "execution_count": 14,
   "id": "65c908c7",
   "metadata": {},
   "outputs": [],
   "source": [
    "def create_custom_hn(links,votes):\n",
    "    hn=[]\n",
    "    :\n",
    "        title=links[idx].getText()\n",
    "        points=votes[idx].getText()\n",
    "        #href=links[idx].get('href',None)\n",
    "        hn.append({'title':title, 'links':points})\n",
    "        \n",
    "    return hn"
   ]
  },
  {
   "cell_type": "code",
   "execution_count": 22,
   "id": "12854699",
   "metadata": {},
   "outputs": [
    {
     "name": "stdout",
     "output_type": "stream",
     "text": [
      "80\n",
      "476\n",
      "161\n",
      "92\n",
      "128\n",
      "23\n",
      "197\n",
      "269\n",
      "96\n",
      "10\n",
      "66\n",
      "154\n",
      "111\n",
      "50\n",
      "34\n",
      "114\n",
      "34\n",
      "98\n",
      "160\n",
      "105\n",
      "73\n",
      "100\n",
      "298\n",
      "109\n",
      "4\n",
      "90\n",
      "40\n",
      "59\n",
      "22\n"
     ]
    }
   ],
   "source": [
    "for idx, item in enumerate(votes):\n",
    "    points=int(votes[idx].getText().replace(' points',' '))\n",
    "    print(points)"
   ]
  },
  {
   "cell_type": "code",
   "execution_count": null,
   "id": "58b5fc1c",
   "metadata": {},
   "outputs": [],
   "source": []
  }
 ],
 "metadata": {
  "kernelspec": {
   "display_name": "Python 3",
   "language": "python",
   "name": "python3"
  },
  "language_info": {
   "codemirror_mode": {
    "name": "ipython",
    "version": 3
   },
   "file_extension": ".py",
   "mimetype": "text/x-python",
   "name": "python",
   "nbconvert_exporter": "python",
   "pygments_lexer": "ipython3",
   "version": "3.8.8"
  }
 },
 "nbformat": 4,
 "nbformat_minor": 5
}
