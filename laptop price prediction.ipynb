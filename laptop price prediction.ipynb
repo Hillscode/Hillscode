{
 "cells": [
  {
   "cell_type": "code",
   "execution_count": 2,
   "id": "733451b9",
   "metadata": {},
   "outputs": [],
   "source": [
    "import pandas as pd\n",
    "import numpy as np"
   ]
  },
  {
   "cell_type": "code",
   "execution_count": 3,
   "id": "42183b9b",
   "metadata": {},
   "outputs": [],
   "source": [
    "\n",
    "af=pd.read_csv('laptop_price.csv')"
   ]
  },
  {
   "cell_type": "code",
   "execution_count": 4,
   "id": "0f3cef10",
   "metadata": {},
   "outputs": [],
   "source": [
    "\n",
    "import seaborn as sns\n",
    "import matplotlib as plt\n",
    "\n"
   ]
  },
  {
   "cell_type": "code",
   "execution_count": 5,
   "id": "70a6e57a",
   "metadata": {},
   "outputs": [],
   "source": [
    "af.columns=af.columns.str.lower()\n",
    "af.price_euros=af.price_euros*500"
   ]
  },
  {
   "cell_type": "code",
   "execution_count": 6,
   "id": "d19032ab",
   "metadata": {},
   "outputs": [],
   "source": [
    "af=af.rename(columns={'price_euros':'price_naira'})\n",
    "del af['laptop_id']"
   ]
  },
  {
   "cell_type": "code",
   "execution_count": 7,
   "id": "98a92af6",
   "metadata": {},
   "outputs": [
    {
     "data": {
      "text/plain": [
       "<AxesSubplot:xlabel='price_naira', ylabel='Count'>"
      ]
     },
     "execution_count": 7,
     "metadata": {},
     "output_type": "execute_result"
    },
    {
     "data": {
      "image/png": "[encoded data removed]",
      "text/plain": [
       "<Figure size 432x288 with 1 Axes>"
      ]
     },
     "metadata": {
      "needs_background": "light"
     },
     "output_type": "display_data"
    }
   ],
   "source": [
    "sns.histplot(af.price_naira)"
   ]
  },
  {
   "cell_type": "code",
   "execution_count": 8,
   "id": "e103c705",
   "metadata": {},
   "outputs": [],
   "source": [
    "obj=af.dtypes[af.dtypes==object].index"
   ]
  },
  {
   "cell_type": "code",
   "execution_count": 9,
   "id": "01800701",
   "metadata": {},
   "outputs": [],
   "source": [
    "for col in obj:\n",
    "    af[col]=af[col].str.lower().str.replace(' ','_')"
   ]
  },
  {
   "cell_type": "code",
   "execution_count": 10,
   "id": "bdfb19eb",
   "metadata": {},
   "outputs": [
    {
     "data": {
      "text/html": [
       "<div>\n",
       "<style scoped>\n",
       "    .dataframe tbody tr th:only-of-type {\n",
       "        vertical-align: middle;\n",
       "    }\n",
       "\n",
       "    .dataframe tbody tr th {\n",
       "        vertical-align: top;\n",
       "    }\n",
       "\n",
       "    .dataframe thead th {\n",
       "        text-align: right;\n",
       "    }\n",
       "</style>\n",
       "<table border=\"1\" class=\"dataframe\">\n",
       "  <thead>\n",
       "    <tr style=\"text-align: right;\">\n",
       "      <th></th>\n",
       "      <th>company</th>\n",
       "      <th>product</th>\n",
       "      <th>typename</th>\n",
       "      <th>inches</th>\n",
       "      <th>screenresolution</th>\n",
       "      <th>cpu</th>\n",
       "      <th>ram</th>\n",
       "      <th>memory</th>\n",
       "      <th>gpu</th>\n",
       "      <th>opsys</th>\n",
       "      <th>weight</th>\n",
       "      <th>price_naira</th>\n",
       "    </tr>\n",
       "  </thead>\n",
       "  <tbody>\n",
       "    <tr>\n",
       "      <th>0</th>\n",
       "      <td>apple</td>\n",
       "      <td>macbook_pro</td>\n",
       "      <td>ultrabook</td>\n",
       "      <td>13.3</td>\n",
       "      <td>ips_panel_retina_display_2560x1600</td>\n",
       "      <td>intel_core_i5_2.3ghz</td>\n",
       "      <td>8gb</td>\n",
       "      <td>128gb_ssd</td>\n",
       "      <td>intel_iris_plus_graphics_640</td>\n",
       "      <td>macos</td>\n",
       "      <td>1.37kg</td>\n",
       "      <td>669845.0</td>\n",
       "    </tr>\n",
       "    <tr>\n",
       "      <th>1</th>\n",
       "      <td>apple</td>\n",
       "      <td>macbook_air</td>\n",
       "      <td>ultrabook</td>\n",
       "      <td>13.3</td>\n",
       "      <td>1440x900</td>\n",
       "      <td>intel_core_i5_1.8ghz</td>\n",
       "      <td>8gb</td>\n",
       "      <td>128gb_flash_storage</td>\n",
       "      <td>intel_hd_graphics_6000</td>\n",
       "      <td>macos</td>\n",
       "      <td>1.34kg</td>\n",
       "      <td>449470.0</td>\n",
       "    </tr>\n",
       "    <tr>\n",
       "      <th>2</th>\n",
       "      <td>hp</td>\n",
       "      <td>250_g6</td>\n",
       "      <td>notebook</td>\n",
       "      <td>15.6</td>\n",
       "      <td>full_hd_1920x1080</td>\n",
       "      <td>intel_core_i5_7200u_2.5ghz</td>\n",
       "      <td>8gb</td>\n",
       "      <td>256gb_ssd</td>\n",
       "      <td>intel_hd_graphics_620</td>\n",
       "      <td>no_os</td>\n",
       "      <td>1.86kg</td>\n",
       "      <td>287500.0</td>\n",
       "    </tr>\n",
       "    <tr>\n",
       "      <th>3</th>\n",
       "      <td>apple</td>\n",
       "      <td>macbook_pro</td>\n",
       "      <td>ultrabook</td>\n",
       "      <td>15.4</td>\n",
       "      <td>ips_panel_retina_display_2880x1800</td>\n",
       "      <td>intel_core_i7_2.7ghz</td>\n",
       "      <td>16gb</td>\n",
       "      <td>512gb_ssd</td>\n",
       "      <td>amd_radeon_pro_455</td>\n",
       "      <td>macos</td>\n",
       "      <td>1.83kg</td>\n",
       "      <td>1268725.0</td>\n",
       "    </tr>\n",
       "    <tr>\n",
       "      <th>4</th>\n",
       "      <td>apple</td>\n",
       "      <td>macbook_pro</td>\n",
       "      <td>ultrabook</td>\n",
       "      <td>13.3</td>\n",
       "      <td>ips_panel_retina_display_2560x1600</td>\n",
       "      <td>intel_core_i5_3.1ghz</td>\n",
       "      <td>8gb</td>\n",
       "      <td>256gb_ssd</td>\n",
       "      <td>intel_iris_plus_graphics_650</td>\n",
       "      <td>macos</td>\n",
       "      <td>1.37kg</td>\n",
       "      <td>901800.0</td>\n",
       "    </tr>\n",
       "    <tr>\n",
       "      <th>...</th>\n",
       "      <td>...</td>\n",
       "      <td>...</td>\n",
       "      <td>...</td>\n",
       "      <td>...</td>\n",
       "      <td>...</td>\n",
       "      <td>...</td>\n",
       "      <td>...</td>\n",
       "      <td>...</td>\n",
       "      <td>...</td>\n",
       "      <td>...</td>\n",
       "      <td>...</td>\n",
       "      <td>...</td>\n",
       "    </tr>\n",
       "    <tr>\n",
       "      <th>1298</th>\n",
       "      <td>lenovo</td>\n",
       "      <td>yoga_500-14isk</td>\n",
       "      <td>2_in_1_convertible</td>\n",
       "      <td>14.0</td>\n",
       "      <td>ips_panel_full_hd_/_touchscreen_1920x1080</td>\n",
       "      <td>intel_core_i7_6500u_2.5ghz</td>\n",
       "      <td>4gb</td>\n",
       "      <td>128gb_ssd</td>\n",
       "      <td>intel_hd_graphics_520</td>\n",
       "      <td>windows_10</td>\n",
       "      <td>1.8kg</td>\n",
       "      <td>319000.0</td>\n",
       "    </tr>\n",
       "    <tr>\n",
       "      <th>1299</th>\n",
       "      <td>lenovo</td>\n",
       "      <td>yoga_900-13isk</td>\n",
       "      <td>2_in_1_convertible</td>\n",
       "      <td>13.3</td>\n",
       "      <td>ips_panel_quad_hd+_/_touchscreen_3200x1800</td>\n",
       "      <td>intel_core_i7_6500u_2.5ghz</td>\n",
       "      <td>16gb</td>\n",
       "      <td>512gb_ssd</td>\n",
       "      <td>intel_hd_graphics_520</td>\n",
       "      <td>windows_10</td>\n",
       "      <td>1.3kg</td>\n",
       "      <td>749500.0</td>\n",
       "    </tr>\n",
       "    <tr>\n",
       "      <th>1300</th>\n",
       "      <td>lenovo</td>\n",
       "      <td>ideapad_100s-14ibr</td>\n",
       "      <td>notebook</td>\n",
       "      <td>14.0</td>\n",
       "      <td>1366x768</td>\n",
       "      <td>intel_celeron_dual_core_n3050_1.6ghz</td>\n",
       "      <td>2gb</td>\n",
       "      <td>64gb_flash_storage</td>\n",
       "      <td>intel_hd_graphics</td>\n",
       "      <td>windows_10</td>\n",
       "      <td>1.5kg</td>\n",
       "      <td>114500.0</td>\n",
       "    </tr>\n",
       "    <tr>\n",
       "      <th>1301</th>\n",
       "      <td>hp</td>\n",
       "      <td>15-ac110nv_(i7-6500u/6gb/1tb/radeon</td>\n",
       "      <td>notebook</td>\n",
       "      <td>15.6</td>\n",
       "      <td>1366x768</td>\n",
       "      <td>intel_core_i7_6500u_2.5ghz</td>\n",
       "      <td>6gb</td>\n",
       "      <td>1tb_hdd</td>\n",
       "      <td>amd_radeon_r5_m330</td>\n",
       "      <td>windows_10</td>\n",
       "      <td>2.19kg</td>\n",
       "      <td>382000.0</td>\n",
       "    </tr>\n",
       "    <tr>\n",
       "      <th>1302</th>\n",
       "      <td>asus</td>\n",
       "      <td>x553sa-xx031t_(n3050/4gb/500gb/w10)</td>\n",
       "      <td>notebook</td>\n",
       "      <td>15.6</td>\n",
       "      <td>1366x768</td>\n",
       "      <td>intel_celeron_dual_core_n3050_1.6ghz</td>\n",
       "      <td>4gb</td>\n",
       "      <td>500gb_hdd</td>\n",
       "      <td>intel_hd_graphics</td>\n",
       "      <td>windows_10</td>\n",
       "      <td>2.2kg</td>\n",
       "      <td>184500.0</td>\n",
       "    </tr>\n",
       "  </tbody>\n",
       "</table>\n",
       "<p>1303 rows × 12 columns</p>\n",
       "</div>"
      ],
      "text/plain": [
       "     company                              product            typename  inches  \\\n",
       "0      apple                          macbook_pro           ultrabook    13.3   \n",
       "1      apple                          macbook_air           ultrabook    13.3   \n",
       "2         hp                               250_g6            notebook    15.6   \n",
       "3      apple                          macbook_pro           ultrabook    15.4   \n",
       "4      apple                          macbook_pro           ultrabook    13.3   \n",
       "...      ...                                  ...                 ...     ...   \n",
       "1298  lenovo                       yoga_500-14isk  2_in_1_convertible    14.0   \n",
       "1299  lenovo                       yoga_900-13isk  2_in_1_convertible    13.3   \n",
       "1300  lenovo                   ideapad_100s-14ibr            notebook    14.0   \n",
       "1301      hp  15-ac110nv_(i7-6500u/6gb/1tb/radeon            notebook    15.6   \n",
       "1302    asus  x553sa-xx031t_(n3050/4gb/500gb/w10)            notebook    15.6   \n",
       "\n",
       "                                screenresolution  \\\n",
       "0             ips_panel_retina_display_2560x1600   \n",
       "1                                       1440x900   \n",
       "2                              full_hd_1920x1080   \n",
       "3             ips_panel_retina_display_2880x1800   \n",
       "4             ips_panel_retina_display_2560x1600   \n",
       "...                                          ...   \n",
       "1298   ips_panel_full_hd_/_touchscreen_1920x1080   \n",
       "1299  ips_panel_quad_hd+_/_touchscreen_3200x1800   \n",
       "1300                                    1366x768   \n",
       "1301                                    1366x768   \n",
       "1302                                    1366x768   \n",
       "\n",
       "                                       cpu   ram               memory  \\\n",
       "0                     intel_core_i5_2.3ghz   8gb            128gb_ssd   \n",
       "1                     intel_core_i5_1.8ghz   8gb  128gb_flash_storage   \n",
       "2               intel_core_i5_7200u_2.5ghz   8gb            256gb_ssd   \n",
       "3                     intel_core_i7_2.7ghz  16gb            512gb_ssd   \n",
       "4                     intel_core_i5_3.1ghz   8gb            256gb_ssd   \n",
       "...                                    ...   ...                  ...   \n",
       "1298            intel_core_i7_6500u_2.5ghz   4gb            128gb_ssd   \n",
       "1299            intel_core_i7_6500u_2.5ghz  16gb            512gb_ssd   \n",
       "1300  intel_celeron_dual_core_n3050_1.6ghz   2gb   64gb_flash_storage   \n",
       "1301            intel_core_i7_6500u_2.5ghz   6gb              1tb_hdd   \n",
       "1302  intel_celeron_dual_core_n3050_1.6ghz   4gb            500gb_hdd   \n",
       "\n",
       "                               gpu       opsys  weight  price_naira  \n",
       "0     intel_iris_plus_graphics_640       macos  1.37kg     669845.0  \n",
       "1           intel_hd_graphics_6000       macos  1.34kg     449470.0  \n",
       "2            intel_hd_graphics_620       no_os  1.86kg     287500.0  \n",
       "3               amd_radeon_pro_455       macos  1.83kg    1268725.0  \n",
       "4     intel_iris_plus_graphics_650       macos  1.37kg     901800.0  \n",
       "...                            ...         ...     ...          ...  \n",
       "1298         intel_hd_graphics_520  windows_10   1.8kg     319000.0  \n",
       "1299         intel_hd_graphics_520  windows_10   1.3kg     749500.0  \n",
       "1300             intel_hd_graphics  windows_10   1.5kg     114500.0  \n",
       "1301            amd_radeon_r5_m330  windows_10  2.19kg     382000.0  \n",
       "1302             intel_hd_graphics  windows_10   2.2kg     184500.0  \n",
       "\n",
       "[1303 rows x 12 columns]"
      ]
     },
     "execution_count": 10,
     "metadata": {},
     "output_type": "execute_result"
    }
   ],
   "source": [
    "af"
   ]
  },
  {
   "cell_type": "markdown",
   "id": "be40ba45",
   "metadata": {},
   "source": [
    "# Splitting the data set"
   ]
  },
  {
   "cell_type": "code",
   "execution_count": 11,
   "id": "dd3828f7",
   "metadata": {},
   "outputs": [],
   "source": [
    "n=len(af)"
   ]
  },
  {
   "cell_type": "code",
   "execution_count": 12,
   "id": "93dac845",
   "metadata": {},
   "outputs": [
    {
     "data": {
      "text/plain": [
       "(260, 260, 783)"
      ]
     },
     "execution_count": 12,
     "metadata": {},
     "output_type": "execute_result"
    }
   ],
   "source": [
    "val=int(n*0.2)\n",
    "test=int(n*0.2)\n",
    "train=(n-val-test)\n",
    "val,test,train"
   ]
  },
  {
   "cell_type": "code",
   "execution_count": 13,
   "id": "d8e1449d",
   "metadata": {},
   "outputs": [],
   "source": [
    "val_af=af.iloc[:val]\n",
    "test_af=af.iloc[val:val+test]\n",
    "train_af=af.iloc[val+test:]"
   ]
  },
  {
   "cell_type": "code",
   "execution_count": 14,
   "id": "6765bf97",
   "metadata": {},
   "outputs": [],
   "source": [
    "val_tag=np.log1p(val_af['price_naira'].values)\n",
    "test_tag=np.log1p(test_af['price_naira'].values)\n",
    "train_tag=np.log1p(train_af['price_naira'].values)"
   ]
  },
  {
   "cell_type": "code",
   "execution_count": 15,
   "id": "19baca6b",
   "metadata": {},
   "outputs": [],
   "source": [
    "del val_af['price_naira']\n",
    "del test_af['price_naira']\n",
    "del train_af['price_naira']"
   ]
  },
  {
   "cell_type": "markdown",
   "id": "319ad5fd",
   "metadata": {},
   "source": [
    "# training  our train data set by first preparing the data"
   ]
  },
  {
   "cell_type": "code",
   "execution_count": 16,
   "id": "474800fe",
   "metadata": {
    "scrolled": true
   },
   "outputs": [
    {
     "data": {
      "text/html": [
       "<div>\n",
       "<style scoped>\n",
       "    .dataframe tbody tr th:only-of-type {\n",
       "        vertical-align: middle;\n",
       "    }\n",
       "\n",
       "    .dataframe tbody tr th {\n",
       "        vertical-align: top;\n",
       "    }\n",
       "\n",
       "    .dataframe thead th {\n",
       "        text-align: right;\n",
       "    }\n",
       "</style>\n",
       "<table border=\"1\" class=\"dataframe\">\n",
       "  <thead>\n",
       "    <tr style=\"text-align: right;\">\n",
       "      <th></th>\n",
       "      <th>inches</th>\n",
       "    </tr>\n",
       "  </thead>\n",
       "  <tbody>\n",
       "    <tr>\n",
       "      <th>0</th>\n",
       "      <td>13.3</td>\n",
       "    </tr>\n",
       "    <tr>\n",
       "      <th>1</th>\n",
       "      <td>13.3</td>\n",
       "    </tr>\n",
       "    <tr>\n",
       "      <th>2</th>\n",
       "      <td>15.6</td>\n",
       "    </tr>\n",
       "    <tr>\n",
       "      <th>3</th>\n",
       "      <td>15.4</td>\n",
       "    </tr>\n",
       "    <tr>\n",
       "      <th>4</th>\n",
       "      <td>13.3</td>\n",
       "    </tr>\n",
       "    <tr>\n",
       "      <th>...</th>\n",
       "      <td>...</td>\n",
       "    </tr>\n",
       "    <tr>\n",
       "      <th>1298</th>\n",
       "      <td>14.0</td>\n",
       "    </tr>\n",
       "    <tr>\n",
       "      <th>1299</th>\n",
       "      <td>13.3</td>\n",
       "    </tr>\n",
       "    <tr>\n",
       "      <th>1300</th>\n",
       "      <td>14.0</td>\n",
       "    </tr>\n",
       "    <tr>\n",
       "      <th>1301</th>\n",
       "      <td>15.6</td>\n",
       "    </tr>\n",
       "    <tr>\n",
       "      <th>1302</th>\n",
       "      <td>15.6</td>\n",
       "    </tr>\n",
       "  </tbody>\n",
       "</table>\n",
       "<p>1303 rows × 1 columns</p>\n",
       "</div>"
      ],
      "text/plain": [
       "      inches\n",
       "0       13.3\n",
       "1       13.3\n",
       "2       15.6\n",
       "3       15.4\n",
       "4       13.3\n",
       "...      ...\n",
       "1298    14.0\n",
       "1299    13.3\n",
       "1300    14.0\n",
       "1301    15.6\n",
       "1302    15.6\n",
       "\n",
       "[1303 rows x 1 columns]"
      ]
     },
     "execution_count": 16,
     "metadata": {},
     "output_type": "execute_result"
    }
   ],
   "source": [
    "base=['inches']\n",
    "af[base]"
   ]
  },
  {
   "cell_type": "code",
   "execution_count": 17,
   "id": "c7604818",
   "metadata": {},
   "outputs": [],
   "source": [
    "def preparex(df):\n",
    "    df=df.copy()\n",
    "    base=['inches']\n",
    "\n",
    "    for v in ['ultrabook','notebook','netbook','gaming','2_in_1_convertible','workstation']:\n",
    "        df['typename_%s'%v]=(df['typename']==v).astype('int')\n",
    "        base.append('typename_%s'%v)\n",
    "    \n",
    "    for v in ['8gb','16gb','4gb','2gb','12gb','6gb','32gb','24gb','64gb']:\n",
    "        df['ram_%s'%v]=(df['ram']==v).astype('int')\n",
    "        base.append('ram_%s'%v)\n",
    "    \n",
    "    for v in ['macos','no_os','windows_10','mac_os_x','linux','android','windows_10_s','chrome_os','windows_7']:\n",
    "        df['opsys_%s'%v]=(df['opsys']==v).astype('int')\n",
    "        base.append('opsys_%s'%v)\n",
    "    \n",
    "    features=df[base]\n",
    "    return features.values\n",
    "    "
   ]
  },
  {
   "cell_type": "code",
   "execution_count": 18,
   "id": "b7bcba41",
   "metadata": {},
   "outputs": [],
   "source": [
    "prep_train_values=preparex(train_af)"
   ]
  },
  {
   "cell_type": "code",
   "execution_count": 19,
   "id": "5805eccf",
   "metadata": {},
   "outputs": [
    {
     "data": {
      "text/plain": [
       "array([[15.6,  0. ,  0. , ...,  0. ,  0. ,  0. ],\n",
       "       [13.3,  1. ,  0. , ...,  0. ,  0. ,  0. ],\n",
       "       [14. ,  0. ,  1. , ...,  0. ,  0. ,  0. ],\n",
       "       ...,\n",
       "       [14. ,  0. ,  1. , ...,  0. ,  0. ,  0. ],\n",
       "       [15.6,  0. ,  1. , ...,  0. ,  0. ,  0. ],\n",
       "       [15.6,  0. ,  1. , ...,  0. ,  0. ,  0. ]])"
      ]
     },
     "execution_count": 19,
     "metadata": {},
     "output_type": "execute_result"
    }
   ],
   "source": [
    "prep_train_values"
   ]
  },
  {
   "cell_type": "markdown",
   "id": "41b4ef1f",
   "metadata": {},
   "source": [
    "# Training linear regression"
   ]
  },
  {
   "cell_type": "code",
   "execution_count": 20,
   "id": "bf09a254",
   "metadata": {},
   "outputs": [],
   "source": [
    "def linear_regression(x,y,r=0.001):\n",
    "    ones=np.ones(x.shape[0])\n",
    "    x=np.column_stack([ones,x])\n",
    "    \n",
    "    xTrans=x.T.dot(x)\n",
    "    xTrans=xTrans+r*np.eye(xTrans.shape[0])\n",
    "    xInv=np.linalg.inv(xTrans)\n",
    "    w=xInv.dot(x.T).dot(y)\n",
    "    return w[0],w[1:]\n",
    "    "
   ]
  },
  {
   "cell_type": "code",
   "execution_count": 21,
   "id": "d520bf86",
   "metadata": {},
   "outputs": [
    {
     "ename": "NameError",
     "evalue": "name 'x' is not defined",
     "output_type": "error",
     "traceback": [
      "\u001b[1;31m---------------------------------------------------------------------------\u001b[0m",
      "\u001b[1;31mNameError\u001b[0m                                 Traceback (most recent call last)",
      "\u001b[1;32m<ipython-input-21-1c17164993df>\u001b[0m in \u001b[0;36m<module>\u001b[1;34m\u001b[0m\n\u001b[1;32m----> 1\u001b[1;33m \u001b[0mones\u001b[0m\u001b[1;33m=\u001b[0m\u001b[0mnp\u001b[0m\u001b[1;33m.\u001b[0m\u001b[0mones\u001b[0m\u001b[1;33m(\u001b[0m\u001b[0mx\u001b[0m\u001b[1;33m.\u001b[0m\u001b[0mshape\u001b[0m\u001b[1;33m[\u001b[0m\u001b[1;36m0\u001b[0m\u001b[1;33m]\u001b[0m\u001b[1;33m)\u001b[0m\u001b[1;33m\u001b[0m\u001b[1;33m\u001b[0m\u001b[0m\n\u001b[0m\u001b[0;32m      2\u001b[0m \u001b[0mones\u001b[0m\u001b[1;33m\u001b[0m\u001b[1;33m\u001b[0m\u001b[0m\n",
      "\u001b[1;31mNameError\u001b[0m: name 'x' is not defined"
     ]
    }
   ],
   "source": [
    "ones=np.ones(x.shape[0])\n",
    "ones"
   ]
  },
  {
   "cell_type": "code",
   "execution_count": null,
   "id": "92cb7ea4",
   "metadata": {},
   "outputs": [],
   "source": [
    "w0,w=linear_regression(prep_train_values,train_tag,r=0.001)"
   ]
  },
  {
   "cell_type": "code",
   "execution_count": null,
   "id": "77ef2440",
   "metadata": {},
   "outputs": [],
   "source": [
    "train_pred=w0+prep_train_values.dot(w)"
   ]
  },
  {
   "cell_type": "code",
   "execution_count": null,
   "id": "b58fcd91",
   "metadata": {},
   "outputs": [],
   "source": [
    "sns.histplot(train_pred, color='blue',bins=50)\n",
    "sns.histplot(train_tag, color='red',bins=50)"
   ]
  },
  {
   "cell_type": "code",
   "execution_count": null,
   "id": "7cfc0034",
   "metadata": {},
   "outputs": [],
   "source": [
    "def rmse(pred,tag):\n",
    "    err=tag-pred\n",
    "    sqr_err=err**2\n",
    "    mse=sqr_err.mean()\n",
    "    return np.sqrt(mse)"
   ]
  },
  {
   "cell_type": "code",
   "execution_count": null,
   "id": "c41872e8",
   "metadata": {},
   "outputs": [],
   "source": [
    "rmse(train_pred,train_tag)"
   ]
  },
  {
   "cell_type": "markdown",
   "id": "21da3f71",
   "metadata": {},
   "source": [
    "# Training our val set and using our gotten w on it\n"
   ]
  },
  {
   "cell_type": "code",
   "execution_count": null,
   "id": "95312388",
   "metadata": {},
   "outputs": [],
   "source": [
    "prep_val_values=preparex(val_af)"
   ]
  },
  {
   "cell_type": "code",
   "execution_count": null,
   "id": "3ca088ac",
   "metadata": {},
   "outputs": [],
   "source": [
    "prep_val_values"
   ]
  },
  {
   "cell_type": "code",
   "execution_count": null,
   "id": "fcaa6a63",
   "metadata": {},
   "outputs": [],
   "source": [
    "val_pred=w0+prep_val_values.dot(w)"
   ]
  },
  {
   "cell_type": "code",
   "execution_count": null,
   "id": "956b5ec0",
   "metadata": {},
   "outputs": [],
   "source": [
    "sns.histplot(val_pred, color='blue',bins=50)\n",
    "sns.histplot(val_tag, color='red',bins=50)"
   ]
  },
  {
   "cell_type": "code",
   "execution_count": null,
   "id": "386ac531",
   "metadata": {},
   "outputs": [],
   "source": [
    "rmse(val_pred,val_tag)"
   ]
  },
  {
   "cell_type": "markdown",
   "id": "ee296e21",
   "metadata": {},
   "source": [
    "# Now combining both train and val data to use on test data"
   ]
  },
  {
   "cell_type": "code",
   "execution_count": null,
   "id": "eeab5605",
   "metadata": {},
   "outputs": [],
   "source": [
    "full_af=pd.concat([train_af,val_af])\n",
    "full_tag=np.concatenate([train_tag,val_tag])"
   ]
  },
  {
   "cell_type": "code",
   "execution_count": null,
   "id": "b006ec2d",
   "metadata": {},
   "outputs": [],
   "source": [
    "full_af.reset_index(drop=True)"
   ]
  },
  {
   "cell_type": "code",
   "execution_count": null,
   "id": "a0ee5a78",
   "metadata": {},
   "outputs": [],
   "source": [
    "prep_full_values=preparex(full_af)"
   ]
  },
  {
   "cell_type": "code",
   "execution_count": null,
   "id": "58517f9c",
   "metadata": {},
   "outputs": [],
   "source": [
    "w0,w=linear_regression(prep_full_values,full_tag,r=0.001)"
   ]
  },
  {
   "cell_type": "code",
   "execution_count": null,
   "id": "28325f81",
   "metadata": {},
   "outputs": [],
   "source": [
    "prep_test_values=preparex(test_af)\n",
    "test_pred=w0+prep_test_values.dot(w)\n"
   ]
  },
  {
   "cell_type": "code",
   "execution_count": null,
   "id": "91d5f80f",
   "metadata": {},
   "outputs": [],
   "source": [
    "sns.histplot(val_pred, color='blue',bins=50)\n",
    "sns.histplot(val_tag, color='red',bins=50)"
   ]
  },
  {
   "cell_type": "code",
   "execution_count": null,
   "id": "216a1a09",
   "metadata": {},
   "outputs": [],
   "source": [
    "rmse(test_pred,test_tag)"
   ]
  },
  {
   "cell_type": "code",
   "execution_count": null,
   "id": "27eabf64",
   "metadata": {},
   "outputs": [],
   "source": [
    "pc=test_af.iloc[9]\n",
    "pc"
   ]
  },
  {
   "cell_type": "code",
   "execution_count": null,
   "id": "d942f42a",
   "metadata": {},
   "outputs": [],
   "source": [
    "x_small=pd.DataFrame([pc])\n",
    "x_small"
   ]
  },
  {
   "cell_type": "code",
   "execution_count": null,
   "id": "6b2fe3e0",
   "metadata": {},
   "outputs": [],
   "source": [
    "prep_af_small_values=preparex(x_small)\n",
    "prep_af_small_values"
   ]
  },
  {
   "cell_type": "code",
   "execution_count": null,
   "id": "838e73c1",
   "metadata": {},
   "outputs": [],
   "source": [
    "x_small_pred=w0+prep_af_small_values.dot(w)"
   ]
  },
  {
   "cell_type": "code",
   "execution_count": null,
   "id": "e38ecaf2",
   "metadata": {},
   "outputs": [],
   "source": [
    "s=x_small_pred[0]"
   ]
  },
  {
   "cell_type": "code",
   "execution_count": null,
   "id": "91f1df5b",
   "metadata": {},
   "outputs": [],
   "source": [
    "r=np.expm1(s)\n",
    "r"
   ]
  },
  {
   "cell_type": "code",
   "execution_count": null,
   "id": "fe5ff63c",
   "metadata": {},
   "outputs": [],
   "source": [
    "w"
   ]
  },
  {
   "cell_type": "code",
   "execution_count": null,
   "id": "d9196f69",
   "metadata": {},
   "outputs": [],
   "source": [
    "c=test_tag[9]"
   ]
  },
  {
   "cell_type": "code",
   "execution_count": null,
   "id": "daa6f4ba",
   "metadata": {},
   "outputs": [],
   "source": [
    "b=np.expm1(c)\n",
    "b"
   ]
  },
  {
   "cell_type": "code",
   "execution_count": null,
   "id": "c79b523f",
   "metadata": {},
   "outputs": [],
   "source": [
    "r-b"
   ]
  },
  {
   "cell_type": "code",
   "execution_count": null,
   "id": "fa44314f",
   "metadata": {},
   "outputs": [],
   "source": [
    " #if v=='inches':\n",
    "        #v=float(input())\n",
    "       \n",
    "    #else: print(v)"
   ]
  },
  {
   "cell_type": "code",
   "execution_count": null,
   "id": "c7476725",
   "metadata": {},
   "outputs": [],
   "source": [
    "lists=['company','product','typename','inches','screenresolution','cpu','ram','memory','gpu','opsys','weight']\n",
    "ro=[]\n",
    "for v in lists:\n",
    "    v=float(input())\n",
    "    ro.append(v)\n",
    "ro"
   ]
  },
  {
   "cell_type": "code",
   "execution_count": null,
   "id": "31a7eda5",
   "metadata": {},
   "outputs": [],
   "source": [
    "\n",
    "wf=pd.DataFrame(data=[ro],columns=[lists])\n",
    "wf"
   ]
  },
  {
   "cell_type": "code",
   "execution_count": null,
   "id": "a97b79bc",
   "metadata": {},
   "outputs": [],
   "source": [
    "prep_wf_values=preparex(wf)\n",
    "prep_wf_values"
   ]
  },
  {
   "cell_type": "code",
   "execution_count": null,
   "id": "49a07c0c",
   "metadata": {},
   "outputs": [],
   "source": [
    "w0+prep_wf_values.dot(w)"
   ]
  },
  {
   "cell_type": "code",
   "execution_count": null,
   "id": "f3e18dd3",
   "metadata": {},
   "outputs": [],
   "source": [
    "def biggie()"
   ]
  },
  {
   "cell_type": "code",
   "execution_count": null,
   "id": "7a0207fe",
   "metadata": {},
   "outputs": [],
   "source": []
  }
 ],
 "metadata": {
  "kernelspec": {
   "display_name": "Python 3",
   "language": "python",
   "name": "python3"
  },
  "language_info": {
   "codemirror_mode": {
    "name": "ipython",
    "version": 3
   },
   "file_extension": ".py",
   "mimetype": "text/x-python",
   "name": "python",
   "nbconvert_exporter": "python",
   "pygments_lexer": "ipython3",
   "version": "3.8.8"
  }
 },
 "nbformat": 4,
 "nbformat_minor": 5
}
