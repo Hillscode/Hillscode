{
 "cells": [
  {
   "cell_type": "code",
   "execution_count": 1,
   "id": "ef7ffc17",
   "metadata": {},
   "outputs": [],
   "source": [
    "import pandas as pd"
   ]
  },
  {
   "cell_type": "code",
   "execution_count": 2,
   "id": "5ef8193d",
   "metadata": {},
   "outputs": [
    {
     "name": "stdout",
     "output_type": "stream",
     "text": [
      "my name is faithhillary\n",
      "hellohillary\n"
     ]
    }
   ],
   "source": [
    "name=input('my name is faith')\n",
    "print('hello'+name)"
   ]
  },
  {
   "cell_type": "code",
   "execution_count": 3,
   "id": "aeeeae3e",
   "metadata": {},
   "outputs": [
    {
     "data": {
      "text/plain": [
       "-4"
      ]
     },
     "execution_count": 3,
     "metadata": {},
     "output_type": "execute_result"
    }
   ],
   "source": [
    "((20-3)+3-2**3*3)"
   ]
  },
  {
   "cell_type": "code",
   "execution_count": 4,
   "id": "d4b18503",
   "metadata": {},
   "outputs": [
    {
     "data": {
      "text/plain": [
       "-4"
      ]
     },
     "execution_count": 4,
     "metadata": {},
     "output_type": "execute_result"
    }
   ],
   "source": [
    "#17+3-2**3*3\n",
    "17+3-8*3\n",
    "20-24"
   ]
  },
  {
   "cell_type": "code",
   "execution_count": 5,
   "id": "19228430",
   "metadata": {},
   "outputs": [],
   "source": [
    "#we can comment a multi line sentence by using 3 quotations''''''\n",
    "long_quote='''\n",
    "peace live a river attene my way when soo\n",
    "rrows like \n",
    "sweet billow\n",
    "rows\n",
    "'''"
   ]
  },
  {
   "cell_type": "code",
   "execution_count": 10,
   "id": "1dcc8aab",
   "metadata": {},
   "outputs": [
    {
     "ename": "AttributeError",
     "evalue": "'tuple' object has no attribute 'reverse'",
     "output_type": "error",
     "traceback": [
      "\u001b[1;31m---------------------------------------------------------------------------\u001b[0m",
      "\u001b[1;31mAttributeError\u001b[0m                            Traceback (most recent call last)",
      "\u001b[1;32m<ipython-input-10-9f062d208398>\u001b[0m in \u001b[0;36m<module>\u001b[1;34m\u001b[0m\n\u001b[0;32m      3\u001b[0m \u001b[0mnum\u001b[0m\u001b[1;33m=\u001b[0m\u001b[1;36m1\u001b[0m\u001b[1;33m,\u001b[0m\u001b[1;36m2\u001b[0m\u001b[1;33m,\u001b[0m\u001b[1;36m3\u001b[0m\u001b[1;33m,\u001b[0m\u001b[1;36m4\u001b[0m\u001b[1;33m,\u001b[0m\u001b[1;36m5\u001b[0m\u001b[1;33m,\u001b[0m\u001b[1;36m6\u001b[0m\u001b[1;33m,\u001b[0m\u001b[1;36m7\u001b[0m\u001b[1;33m,\u001b[0m\u001b[1;36m8\u001b[0m\u001b[1;33m,\u001b[0m\u001b[1;36m9\u001b[0m\u001b[1;33m,\u001b[0m\u001b[1;36m0\u001b[0m\u001b[1;33m\u001b[0m\u001b[1;33m\u001b[0m\u001b[0m\n\u001b[0;32m      4\u001b[0m \u001b[1;31m#num[::-1]\u001b[0m\u001b[1;33m\u001b[0m\u001b[1;33m\u001b[0m\u001b[1;33m\u001b[0m\u001b[0m\n\u001b[1;32m----> 5\u001b[1;33m \u001b[0mnum\u001b[0m\u001b[1;33m.\u001b[0m\u001b[0mreverse\u001b[0m\u001b[1;33m(\u001b[0m\u001b[1;33m)\u001b[0m\u001b[1;33m\u001b[0m\u001b[1;33m\u001b[0m\u001b[0m\n\u001b[0m",
      "\u001b[1;31mAttributeError\u001b[0m: 'tuple' object has no attribute 'reverse'"
     ]
    }
   ],
   "source": [
    "#using thb: : -1 means fromthe beginning to thend then fromthe end inverser \n",
    "# this is used to reverse a list\n",
    "num=1,2,3,4,5,6,7,8,9,0\n",
    "num[::-1]\n",
    "\n",
    "#num.reverse() does not work because that is a turple"
   ]
  },
  {
   "cell_type": "code",
   "execution_count": 7,
   "id": "649e3f35",
   "metadata": {},
   "outputs": [
    {
     "data": {
      "text/plain": [
       "'my name is shihuok'"
      ]
     },
     "execution_count": 7,
     "metadata": {},
     "output_type": "execute_result"
    }
   ],
   "source": [
    "# f'anything {}something' this is called the f refrence rule its refrence the value of a variable in a string\n",
    "shit='huo'\n",
    "stt=(f\"my name is shi{shit}k\")\n",
    "stt"
   ]
  },
  {
   "cell_type": "code",
   "execution_count": 8,
   "id": "e2bdcee6",
   "metadata": {
    "scrolled": true
   },
   "outputs": [],
   "source": [
    "selfish='123456789'\n",
    "#selfish+=5"
   ]
  },
  {
   "cell_type": "code",
   "execution_count": 9,
   "id": "59681901",
   "metadata": {},
   "outputs": [
    {
     "data": {
      "text/plain": [
       "9"
      ]
     },
     "execution_count": 9,
     "metadata": {},
     "output_type": "execute_result"
    }
   ],
   "source": [
    "#this gives the length of the string, range, number etc\n",
    "len('hellooooo')"
   ]
  },
  {
   "cell_type": "code",
   "execution_count": 10,
   "id": "1474af23",
   "metadata": {},
   "outputs": [
    {
     "data": {
      "text/plain": [
       "34"
      ]
     },
     "execution_count": 10,
     "metadata": {},
     "output_type": "execute_result"
    }
   ],
   "source": [
    "# this gives the absolute value of an integre which is always positive\n",
    "abs(-34)"
   ]
  },
  {
   "cell_type": "code",
   "execution_count": 11,
   "id": "4d0a9d3e",
   "metadata": {},
   "outputs": [],
   "source": [
    "quote=\"to be or not to be\""
   ]
  },
  {
   "cell_type": "code",
   "execution_count": 12,
   "id": "0c898290",
   "metadata": {},
   "outputs": [
    {
     "data": {
      "text/plain": [
       "'TO BE OR NOT TO BE'"
      ]
     },
     "execution_count": 12,
     "metadata": {},
     "output_type": "execute_result"
    }
   ],
   "source": [
    "quote.upper()"
   ]
  },
  {
   "cell_type": "code",
   "execution_count": 13,
   "id": "8190b09d",
   "metadata": {},
   "outputs": [
    {
     "data": {
      "text/plain": [
       "'To be or not to be'"
      ]
     },
     "execution_count": 13,
     "metadata": {},
     "output_type": "execute_result"
    }
   ],
   "source": [
    "quote.capitalize()"
   ]
  },
  {
   "cell_type": "code",
   "execution_count": 14,
   "id": "46805443",
   "metadata": {},
   "outputs": [
    {
     "data": {
      "text/plain": [
       "('to be or ', 'n', 'ot to be')"
      ]
     },
     "execution_count": 14,
     "metadata": {},
     "output_type": "execute_result"
    }
   ],
   "source": [
    "#nice\n",
    "quote.partition(\"n\")"
   ]
  },
  {
   "cell_type": "code",
   "execution_count": 15,
   "id": "47b41783",
   "metadata": {},
   "outputs": [
    {
     "data": {
      "text/plain": [
       "False"
      ]
     },
     "execution_count": 15,
     "metadata": {},
     "output_type": "execute_result"
    }
   ],
   "source": [
    "bool(0)"
   ]
  },
  {
   "cell_type": "code",
   "execution_count": 16,
   "id": "79534ce9",
   "metadata": {},
   "outputs": [
    {
     "name": "stdout",
     "output_type": "stream",
     "text": [
      "what is your birth year1997\n",
      "your age is: 26 \n"
     ]
    }
   ],
   "source": [
    "year=int(input(\"what is your birth year\"))\n",
    "age=2023-year\n",
    "print(f'your age is: {age} ')"
   ]
  },
  {
   "cell_type": "code",
   "execution_count": 2,
   "id": "72d1bea1",
   "metadata": {},
   "outputs": [
    {
     "data": {
      "text/plain": [
       "['goat', 'pencil', 'houses', 'computers', 'toys']"
      ]
     },
     "execution_count": 2,
     "metadata": {},
     "output_type": "execute_result"
    }
   ],
   "source": [
    "amazon_cart=['books',\n",
    "             'pencil',\n",
    "             'houses',\n",
    "             'computers',\n",
    "            'toys']\n",
    "#so below is a function used to replace the valur in a dictionary and not to change it\n",
    "amazon_cart[0]='goat'\n",
    "amazon_cart"
   ]
  },
  {
   "cell_type": "code",
   "execution_count": 8,
   "id": "23af2297",
   "metadata": {},
   "outputs": [
    {
     "data": {
      "text/plain": [
       "['goat', 'pencil', 'houses', 'lolipop', 'toys']"
      ]
     },
     "execution_count": 8,
     "metadata": {},
     "output_type": "execute_result"
    }
   ],
   "source": [
    "amazon_cart[3]='lolipop'\n",
    "amazon_cart"
   ]
  },
  {
   "cell_type": "code",
   "execution_count": 18,
   "id": "be8990fe",
   "metadata": {},
   "outputs": [],
   "source": [
    "matrix=[\n",
    "    [1,2,9],\n",
    "    [2,1,3],\n",
    "    [1,23,4],\n",
    "    [1,2,9],\n",
    "    [2,1,3],\n",
    "    [1,23,4]\n",
    "    ]"
   ]
  },
  {
   "cell_type": "code",
   "execution_count": 19,
   "id": "33482767",
   "metadata": {},
   "outputs": [
    {
     "data": {
      "text/plain": [
       "[[1, 23, 4], [2, 1, 3], [1, 2, 9], [1, 23, 4], [2, 1, 3], [1, 2, 9]]"
      ]
     },
     "execution_count": 19,
     "metadata": {},
     "output_type": "execute_result"
    }
   ],
   "source": [
    "len(matrix)\n",
    "matrix.reverse()\n",
    "matrix"
   ]
  },
  {
   "cell_type": "code",
   "execution_count": 20,
   "id": "cb438a3f",
   "metadata": {},
   "outputs": [],
   "source": [
    "basket=[1,2,3,4,5,6,7,8,8]\n",
    "basket.append(23)\n",
    "new_list=basket"
   ]
  },
  {
   "cell_type": "code",
   "execution_count": 21,
   "id": "097c56a3",
   "metadata": {},
   "outputs": [
    {
     "data": {
      "text/plain": [
       "[1, 2, 3, 4, 5, 6, 7, 8, 8, 23]"
      ]
     },
     "execution_count": 21,
     "metadata": {},
     "output_type": "execute_result"
    }
   ],
   "source": [
    "new_list"
   ]
  },
  {
   "cell_type": "code",
   "execution_count": 22,
   "id": "09e51e47",
   "metadata": {},
   "outputs": [
    {
     "data": {
      "text/plain": [
       "[1, 2, 3, 4, 5, 6, 200, 7, 8, 8, 23]"
      ]
     },
     "execution_count": 22,
     "metadata": {},
     "output_type": "execute_result"
    }
   ],
   "source": [
    "new_life=basket.insert(6,200)\n",
    "basket"
   ]
  },
  {
   "cell_type": "code",
   "execution_count": 23,
   "id": "ee8b8925",
   "metadata": {},
   "outputs": [
    {
     "data": {
      "text/plain": [
       "[1, 2, 3, 4, 5, 6, 200, 7, 8, 8, 23, 12, 34]"
      ]
     },
     "execution_count": 23,
     "metadata": {},
     "output_type": "execute_result"
    }
   ],
   "source": [
    "basket.extend([12,34])\n",
    "basket"
   ]
  },
  {
   "cell_type": "code",
   "execution_count": 24,
   "id": "68d6debc",
   "metadata": {},
   "outputs": [
    {
     "data": {
      "text/plain": [
       "[1, 2, 4, 5, 6, 200, 7, 8, 8, 23, 12, 34]"
      ]
     },
     "execution_count": 24,
     "metadata": {},
     "output_type": "execute_result"
    }
   ],
   "source": [
    "#removing\n",
    "basket.pop(2)\n",
    "basket"
   ]
  },
  {
   "cell_type": "code",
   "execution_count": 25,
   "id": "09ca9c3b",
   "metadata": {},
   "outputs": [
    {
     "data": {
      "text/plain": [
       "[1, 2, 4, 5, 6, 7, 8, 8, 23, 12, 34]"
      ]
     },
     "execution_count": 25,
     "metadata": {},
     "output_type": "execute_result"
    }
   ],
   "source": [
    "basket.remove(200)\n",
    "basket"
   ]
  },
  {
   "cell_type": "code",
   "execution_count": 11,
   "id": "4ef4d036",
   "metadata": {},
   "outputs": [],
   "source": [
    "#fr=basket.clear()\n",
    "basket=['q','e','s','c','z','v','b','p']"
   ]
  },
  {
   "cell_type": "code",
   "execution_count": 14,
   "id": "db541893",
   "metadata": {},
   "outputs": [
    {
     "data": {
      "text/plain": [
       "5"
      ]
     },
     "execution_count": 14,
     "metadata": {},
     "output_type": "execute_result"
    }
   ],
   "source": [
    "basket.index('v',1,7)"
   ]
  },
  {
   "cell_type": "code",
   "execution_count": 28,
   "id": "230d394f",
   "metadata": {},
   "outputs": [
    {
     "data": {
      "text/plain": [
       "1"
      ]
     },
     "execution_count": 28,
     "metadata": {},
     "output_type": "execute_result"
    }
   ],
   "source": [
    "'e'in basket\n",
    "basket.count('e')"
   ]
  },
  {
   "cell_type": "code",
   "execution_count": 29,
   "id": "dc6092f9",
   "metadata": {},
   "outputs": [
    {
     "data": {
      "text/plain": [
       "['b', 'c', 'e', 'p', 'q', 's', 'v', 'z']"
      ]
     },
     "execution_count": 29,
     "metadata": {},
     "output_type": "execute_result"
    }
   ],
   "source": [
    "#basket.sort()\n",
    "sorted(basket)"
   ]
  },
  {
   "cell_type": "code",
   "execution_count": 30,
   "id": "5d8b15f2",
   "metadata": {},
   "outputs": [
    {
     "data": {
      "text/plain": [
       "['q', 'e', 's', 'c', 'z', 'v', 'b', 'p']"
      ]
     },
     "execution_count": 30,
     "metadata": {},
     "output_type": "execute_result"
    }
   ],
   "source": [
    "basket"
   ]
  },
  {
   "cell_type": "code",
   "execution_count": 31,
   "id": "4cd145d6",
   "metadata": {},
   "outputs": [
    {
     "data": {
      "text/plain": [
       "['b', 'c', 'e', 'p', 'q', 's', 'v', 'z']"
      ]
     },
     "execution_count": 31,
     "metadata": {},
     "output_type": "execute_result"
    }
   ],
   "source": [
    "basket.sort()\n",
    "basket"
   ]
  },
  {
   "cell_type": "code",
   "execution_count": 32,
   "id": "4240eb3d",
   "metadata": {},
   "outputs": [
    {
     "data": {
      "text/plain": [
       "['b', 'c', 'e', 'p', 'q', 's', 'v', 'z']"
      ]
     },
     "execution_count": 32,
     "metadata": {},
     "output_type": "execute_result"
    }
   ],
   "source": [
    "basket"
   ]
  },
  {
   "cell_type": "code",
   "execution_count": 33,
   "id": "4c79dacc",
   "metadata": {},
   "outputs": [
    {
     "data": {
      "text/plain": [
       "['z', 'v', 's', 'q', 'p', 'e', 'c', 'b']"
      ]
     },
     "execution_count": 33,
     "metadata": {},
     "output_type": "execute_result"
    }
   ],
   "source": [
    "basket.reverse()\n",
    "basket"
   ]
  },
  {
   "cell_type": "code",
   "execution_count": 18,
   "id": "e29da37d",
   "metadata": {},
   "outputs": [],
   "source": [
    "basket=['goat','rice','beans','jug']\n"
   ]
  },
  {
   "cell_type": "code",
   "execution_count": 35,
   "id": "6cc29df8",
   "metadata": {},
   "outputs": [
    {
     "data": {
      "text/plain": [
       "['jug', 'beans', 'rice', 'goat']"
      ]
     },
     "execution_count": 35,
     "metadata": {},
     "output_type": "execute_result"
    }
   ],
   "source": [
    "#basket.sort()\n",
    "basket[::-1]"
   ]
  },
  {
   "cell_type": "code",
   "execution_count": 15,
   "id": "8a706ac2",
   "metadata": {},
   "outputs": [],
   "source": [
    "basket.reverse()"
   ]
  },
  {
   "cell_type": "code",
   "execution_count": 16,
   "id": "0946560a",
   "metadata": {},
   "outputs": [
    {
     "data": {
      "text/plain": [
       "['p', 'b', 'v', 'z', 'c', 's', 'e', 'q']"
      ]
     },
     "execution_count": 16,
     "metadata": {},
     "output_type": "execute_result"
    }
   ],
   "source": [
    "basket"
   ]
  },
  {
   "cell_type": "code",
   "execution_count": null,
   "id": "e253e4e4",
   "metadata": {},
   "outputs": [],
   "source": []
  },
  {
   "cell_type": "code",
   "execution_count": 17,
   "id": "ea47029c",
   "metadata": {},
   "outputs": [
    {
     "data": {
      "text/plain": [
       "8"
      ]
     },
     "execution_count": 17,
     "metadata": {},
     "output_type": "execute_result"
    }
   ],
   "source": [
    "len(basket)"
   ]
  },
  {
   "cell_type": "code",
   "execution_count": 38,
   "id": "f6354f78",
   "metadata": {},
   "outputs": [
    {
     "data": {
      "text/plain": [
       "['jug', 'beans', 'rice', 'goat']"
      ]
     },
     "execution_count": 38,
     "metadata": {},
     "output_type": "execute_result"
    }
   ],
   "source": [
    "basket.append('rice')\n",
    "basket.pop()\n",
    "basket"
   ]
  },
  {
   "cell_type": "code",
   "execution_count": 39,
   "id": "0784e0e3",
   "metadata": {},
   "outputs": [],
   "source": [
    "basket.insert(2,'hat')"
   ]
  },
  {
   "cell_type": "code",
   "execution_count": 40,
   "id": "b253c9e2",
   "metadata": {},
   "outputs": [
    {
     "data": {
      "text/plain": [
       "'goat'"
      ]
     },
     "execution_count": 40,
     "metadata": {},
     "output_type": "execute_result"
    }
   ],
   "source": [
    "basket.pop()"
   ]
  },
  {
   "cell_type": "code",
   "execution_count": 41,
   "id": "b79fcad8",
   "metadata": {},
   "outputs": [],
   "source": [
    "basket.extend(['thigh','kettle'])"
   ]
  },
  {
   "cell_type": "code",
   "execution_count": 42,
   "id": "1f007827",
   "metadata": {},
   "outputs": [
    {
     "data": {
      "text/plain": [
       "['kettle', 'thigh', 'rice', 'hat', 'beans', 'jug']"
      ]
     },
     "execution_count": 42,
     "metadata": {},
     "output_type": "execute_result"
    }
   ],
   "source": [
    "basket[::-1]"
   ]
  },
  {
   "cell_type": "code",
   "execution_count": 43,
   "id": "c3bf1351",
   "metadata": {},
   "outputs": [
    {
     "data": {
      "text/plain": [
       "['jug', 'beans', 'hat', 'rice', 'thigh', 'kettle']"
      ]
     },
     "execution_count": 43,
     "metadata": {},
     "output_type": "execute_result"
    }
   ],
   "source": [
    "basket"
   ]
  },
  {
   "cell_type": "code",
   "execution_count": 44,
   "id": "e5875cc9",
   "metadata": {},
   "outputs": [],
   "source": [
    "#list(range(1,100))"
   ]
  },
  {
   "cell_type": "code",
   "execution_count": 45,
   "id": "d1af5af3",
   "metadata": {},
   "outputs": [
    {
     "data": {
      "text/plain": [
       "'faith  maameon emmanuel  maameon toju '"
      ]
     },
     "execution_count": 45,
     "metadata": {},
     "output_type": "execute_result"
    }
   ],
   "source": [
    "sentence=' maameon '\n",
    "sentence.join(['faith ','emmanuel ','toju '])"
   ]
  },
  {
   "cell_type": "code",
   "execution_count": 46,
   "id": "bcce6d8f",
   "metadata": {},
   "outputs": [
    {
     "data": {
      "text/plain": [
       "' maameon '"
      ]
     },
     "execution_count": 46,
     "metadata": {},
     "output_type": "execute_result"
    }
   ],
   "source": [
    "sentence"
   ]
  },
  {
   "cell_type": "code",
   "execution_count": 47,
   "id": "34df96ad",
   "metadata": {},
   "outputs": [],
   "source": [
    "#list unpackinh\n",
    "buck=[1,2,3]\n",
    "#assigning a variable to  each item\n",
    "a,b,c,*JJ=[1,2,3,4,5,6,7,8,9]"
   ]
  },
  {
   "cell_type": "code",
   "execution_count": 48,
   "id": "2360f986",
   "metadata": {},
   "outputs": [
    {
     "data": {
      "text/plain": [
       "[4, 5, 6, 7, 8, 9]"
      ]
     },
     "execution_count": 48,
     "metadata": {},
     "output_type": "execute_result"
    }
   ],
   "source": [
    "JJ"
   ]
  },
  {
   "cell_type": "code",
   "execution_count": 49,
   "id": "95596cb7",
   "metadata": {},
   "outputs": [
    {
     "ename": "NameError",
     "evalue": "name 'user' is not defined",
     "output_type": "error",
     "traceback": [
      "\u001b[1;31m---------------------------------------------------------------------------\u001b[0m",
      "\u001b[1;31mNameError\u001b[0m                                 Traceback (most recent call last)",
      "\u001b[1;32m<ipython-input-49-3a9db0212283>\u001b[0m in \u001b[0;36m<module>\u001b[1;34m\u001b[0m\n\u001b[1;32m----> 1\u001b[1;33m \u001b[0muser\u001b[0m\u001b[1;33m.\u001b[0m\u001b[0mget\u001b[0m\u001b[1;33m(\u001b[0m\u001b[1;34m'age'\u001b[0m\u001b[1;33m)\u001b[0m\u001b[1;33m\u001b[0m\u001b[1;33m\u001b[0m\u001b[0m\n\u001b[0m\u001b[0;32m      2\u001b[0m \u001b[0muser\u001b[0m\u001b[1;33m.\u001b[0m\u001b[0mget\u001b[0m\u001b[1;33m(\u001b[0m\u001b[1;34m'age'\u001b[0m\u001b[1;33m,\u001b[0m\u001b[1;36m55\u001b[0m\u001b[1;33m)\u001b[0m\u001b[1;33m\u001b[0m\u001b[1;33m\u001b[0m\u001b[0m\n\u001b[0;32m      3\u001b[0m \u001b[1;31m#filling a new key age in a dict\u001b[0m\u001b[1;33m\u001b[0m\u001b[1;33m\u001b[0m\u001b[1;33m\u001b[0m\u001b[0m\n\u001b[0;32m      4\u001b[0m \u001b[1;31m#turple\u001b[0m\u001b[1;33m\u001b[0m\u001b[1;33m\u001b[0m\u001b[1;33m\u001b[0m\u001b[0m\n\u001b[0;32m      5\u001b[0m \u001b[0mtre\u001b[0m\u001b[1;33m=\u001b[0m\u001b[1;33m(\u001b[0m\u001b[1;36m2\u001b[0m\u001b[1;33m,\u001b[0m\u001b[1;36m7\u001b[0m\u001b[1;33m,\u001b[0m\u001b[1;36m8\u001b[0m\u001b[1;33m)\u001b[0m\u001b[1;33m\u001b[0m\u001b[1;33m\u001b[0m\u001b[0m\n",
      "\u001b[1;31mNameError\u001b[0m: name 'user' is not defined"
     ]
    }
   ],
   "source": [
    "#user.get('age')\n",
    "#user.get('age',55)\n",
    "#filling a new key age in a dict\n",
    "#turple\n",
    "tre=(2,7,8)"
   ]
  },
  {
   "cell_type": "code",
   "execution_count": 50,
   "id": "4a127347",
   "metadata": {},
   "outputs": [],
   "source": [
    "#sets\n",
    "sa={1,2,3,4,5}\n",
    "#there has to be no uplicate in a set"
   ]
  },
  {
   "cell_type": "code",
   "execution_count": 51,
   "id": "f66221b8",
   "metadata": {},
   "outputs": [
    {
     "name": "stdout",
     "output_type": "stream",
     "text": [
      "goat soup\n"
     ]
    }
   ],
   "source": [
    "fish=False\n",
    "goat=True\n",
    "if fish:\n",
    "    print('fish is there')\n",
    "elif goat:\n",
    "        print('goat soup')\n",
    "else:\n",
    "    print('oh no')"
   ]
  },
  {
   "cell_type": "code",
   "execution_count": 52,
   "id": "64f101dd",
   "metadata": {},
   "outputs": [],
   "source": [
    "is_frien=True\n",
    "can_msg='message allow'if is_frien else 'msg not allow'"
   ]
  },
  {
   "cell_type": "code",
   "execution_count": 53,
   "id": "7f1eeadb",
   "metadata": {},
   "outputs": [
    {
     "data": {
      "text/plain": [
       "'message allow'"
      ]
     },
     "execution_count": 53,
     "metadata": {},
     "output_type": "execute_result"
    }
   ],
   "source": [
    "can_msg"
   ]
  },
  {
   "cell_type": "code",
   "execution_count": 62,
   "id": "6c4c6986",
   "metadata": {},
   "outputs": [],
   "source": [
    "def water_application(rain):\n",
    "    sprinkler=on\n",
    "    #acttivate measuring bottle\n",
    "    if measuring_bottle==30:\n",
    "        pass\n",
    "    #end sprinkling"
   ]
  },
  {
   "cell_type": "code",
   "execution_count": 63,
   "id": "63d9483b",
   "metadata": {},
   "outputs": [
    {
     "ename": "TypeError",
     "evalue": "water_application() missing 1 required positional argument: 'rain'",
     "output_type": "error",
     "traceback": [
      "\u001b[1;31m---------------------------------------------------------------------------\u001b[0m",
      "\u001b[1;31mTypeError\u001b[0m                                 Traceback (most recent call last)",
      "\u001b[1;32m<ipython-input-63-d4b340d48a91>\u001b[0m in \u001b[0;36m<module>\u001b[1;34m\u001b[0m\n\u001b[0;32m      3\u001b[0m \u001b[0mhumidity\u001b[0m\u001b[1;33m=\u001b[0m\u001b[1;33m(\u001b[0m\u001b[1;33m(\u001b[0m\u001b[0mthermometer_result\u001b[0m\u001b[1;33m)\u001b[0m\u001b[1;33m)\u001b[0m\u001b[1;33m\u001b[0m\u001b[1;33m\u001b[0m\u001b[0m\n\u001b[0;32m      4\u001b[0m \u001b[1;32mif\u001b[0m \u001b[0mhumidity\u001b[0m\u001b[1;33m<\u001b[0m\u001b[1;36m200\u001b[0m\u001b[1;33m:\u001b[0m\u001b[1;33m\u001b[0m\u001b[1;33m\u001b[0m\u001b[0m\n\u001b[1;32m----> 5\u001b[1;33m     \u001b[0mwater_application\u001b[0m\u001b[1;33m(\u001b[0m\u001b[1;33m)\u001b[0m\u001b[1;33m\u001b[0m\u001b[1;33m\u001b[0m\u001b[0m\n\u001b[0m\u001b[0;32m      6\u001b[0m \u001b[1;32melse\u001b[0m\u001b[1;33m:\u001b[0m\u001b[1;33m\u001b[0m\u001b[1;33m\u001b[0m\u001b[0m\n\u001b[0;32m      7\u001b[0m     \u001b[0martificial_sunlight\u001b[0m\u001b[1;33m(\u001b[0m\u001b[1;33m)\u001b[0m\u001b[1;33m\u001b[0m\u001b[1;33m\u001b[0m\u001b[0m\n",
      "\u001b[1;31mTypeError\u001b[0m: water_application() missing 1 required positional argument: 'rain'"
     ]
    }
   ],
   "source": [
    "#if humidity is over 180 apply water, heat and fertilizer\n",
    "thermometer_result=20\n",
    "humidity=((thermometer_result))\n",
    "if humidity<200:\n",
    "    water_application()\n",
    "else:\n",
    "    artificial_sunlight()\n",
    "    \n"
   ]
  },
  {
   "cell_type": "code",
   "execution_count": null,
   "id": "a1fb6133",
   "metadata": {},
   "outputs": [],
   "source": [
    "1>2<2<3"
   ]
  },
  {
   "cell_type": "code",
   "execution_count": 64,
   "id": "28cd9fb3",
   "metadata": {},
   "outputs": [
    {
     "name": "stdout",
     "output_type": "stream",
     "text": [
      "atleast youre getting there\n"
     ]
    }
   ],
   "source": [
    "is_magician=True\n",
    "is_expert=False\n",
    "\n",
    "if is_magician and is_expert:\n",
    "    print('youre a master magician')\n",
    "\n",
    "elif is_magician and not is_expert:\n",
    "    print('atleast youre getting there')\n",
    "    \n",
    "if not is_magician:\n",
    "    print('you need magical powers')"
   ]
  },
  {
   "cell_type": "code",
   "execution_count": 65,
   "id": "94ba474d",
   "metadata": {},
   "outputs": [
    {
     "name": "stdout",
     "output_type": "stream",
     "text": [
      "True False False True False\n"
     ]
    }
   ],
   "source": [
    "print(\n",
    "    True == 1,\n",
    "    '1'==1,\n",
    "    []==1,\n",
    "    10==10.0,\n",
    "    [1,2,3]==[2,3,2],\n",
    ")"
   ]
  },
  {
   "cell_type": "code",
   "execution_count": 66,
   "id": "f5d4ecd5",
   "metadata": {},
   "outputs": [
    {
     "name": "stderr",
     "output_type": "stream",
     "text": [
      "<>:3: SyntaxWarning: \"is\" with a literal. Did you mean \"==\"?\n",
      "<>:4: SyntaxWarning: \"is\" with a literal. Did you mean \"==\"?\n",
      "<>:3: SyntaxWarning: \"is\" with a literal. Did you mean \"==\"?\n",
      "<>:4: SyntaxWarning: \"is\" with a literal. Did you mean \"==\"?\n"
     ]
    },
    {
     "name": "stdout",
     "output_type": "stream",
     "text": [
      "True True False True False\n"
     ]
    },
    {
     "name": "stderr",
     "output_type": "stream",
     "text": [
      "<ipython-input-66-2e86ed7b55cf>:3: SyntaxWarning: \"is\" with a literal. Did you mean \"==\"?\n",
      "  '1'is '1',\n",
      "<ipython-input-66-2e86ed7b55cf>:4: SyntaxWarning: \"is\" with a literal. Did you mean \"==\"?\n",
      "  [] is 1,\n"
     ]
    }
   ],
   "source": [
    "print(\n",
    "    True == 1,\n",
    "    '1'is '1',\n",
    "    [] is 1,\n",
    "    10==10.0,\n",
    "    [1,2,3]==[2,3,2],\n",
    ")"
   ]
  },
  {
   "cell_type": "code",
   "execution_count": 67,
   "id": "2f40846f",
   "metadata": {},
   "outputs": [
    {
     "name": "stdout",
     "output_type": "stream",
     "text": [
      "f\n",
      "a\n",
      "i\n",
      "t\n",
      " \n",
      "i\n",
      "s\n",
      " \n",
      "g\n",
      "o\n",
      "o\n"
     ]
    }
   ],
   "source": [
    "#loops\n",
    "for items in 'fait is goo':\n",
    "    print(items)\n",
    "    \n"
   ]
  },
  {
   "cell_type": "code",
   "execution_count": 71,
   "id": "c693e78b",
   "metadata": {},
   "outputs": [
    {
     "name": "stdout",
     "output_type": "stream",
     "text": [
      "1 a\n",
      "1 b\n",
      "1 c\n",
      "1 d\n",
      "1 e\n",
      "2 a\n",
      "2 b\n",
      "2 c\n",
      "2 d\n",
      "2 e\n",
      "3 a\n",
      "3 b\n",
      "3 c\n",
      "3 d\n",
      "3 e\n",
      "4 a\n",
      "4 b\n",
      "4 c\n",
      "4 d\n",
      "4 e\n",
      "5 a\n",
      "5 b\n",
      "5 c\n",
      "5 d\n",
      "5 e\n"
     ]
    }
   ],
   "source": [
    "#nested loops\n",
    "for item in [1,2,3,4,5]:\n",
    "    for tir in ['a','b','c','d','e']:\n",
    "        print(item,tir)\n",
    "        if (item,tir) ==1:\n",
    "            break"
   ]
  },
  {
   "cell_type": "code",
   "execution_count": 72,
   "id": "bbe5a549",
   "metadata": {},
   "outputs": [
    {
     "name": "stdout",
     "output_type": "stream",
     "text": [
      "('name', 'faith')\n",
      "('age', 26)\n",
      "('class', 2017)\n"
     ]
    }
   ],
   "source": [
    "#forming a ictionary\n",
    "user={\n",
    "    'name':'faith',\n",
    "    'age':26,\n",
    "    'class':2017\n",
    "}\n",
    "for users in user.items():\n",
    "    print(users)"
   ]
  },
  {
   "cell_type": "code",
   "execution_count": 73,
   "id": "97684dd3",
   "metadata": {},
   "outputs": [
    {
     "name": "stdout",
     "output_type": "stream",
     "text": [
      "faith\n",
      "26\n",
      "2017\n"
     ]
    }
   ],
   "source": [
    "for users in user.values():\n",
    "    print(users)"
   ]
  },
  {
   "cell_type": "code",
   "execution_count": 74,
   "id": "23935b1d",
   "metadata": {},
   "outputs": [
    {
     "name": "stdout",
     "output_type": "stream",
     "text": [
      "name\n",
      "age\n",
      "class\n"
     ]
    }
   ],
   "source": [
    "for users in user.keys():\n",
    "    print(users)"
   ]
  },
  {
   "cell_type": "code",
   "execution_count": 75,
   "id": "378fbf10",
   "metadata": {},
   "outputs": [
    {
     "name": "stdout",
     "output_type": "stream",
     "text": [
      "name faith\n",
      "age 26\n",
      "class 2017\n"
     ]
    }
   ],
   "source": [
    "for users,int in user.items():\n",
    "    print(users,int)"
   ]
  },
  {
   "cell_type": "code",
   "execution_count": 76,
   "id": "150025b4",
   "metadata": {},
   "outputs": [],
   "source": [
    "#iterables are list[], turples(), sets(), ictionaries, strings\n",
    "#because they can go one by on to check each item in the collection"
   ]
  },
  {
   "cell_type": "code",
   "execution_count": 77,
   "id": "1bc2034c",
   "metadata": {},
   "outputs": [
    {
     "name": "stdout",
     "output_type": "stream",
     "text": [
      "55\n"
     ]
    }
   ],
   "source": [
    "#counter\n",
    "my_list=[1,2,3,4,5,6,7,8,9,10]\n",
    "# loop over this list ans sum up the tortal\n",
    "summation=0\n",
    "for items in my_list:\n",
    "    summation=summation+items\n",
    "print(summation)"
   ]
  },
  {
   "cell_type": "code",
   "execution_count": 78,
   "id": "4cc1f4dd",
   "metadata": {},
   "outputs": [
    {
     "data": {
      "text/plain": [
       "[1, 2, 3, 4, 5, 6, 7, 8, 9, 10, 11]"
      ]
     },
     "execution_count": 78,
     "metadata": {},
     "output_type": "execute_result"
    }
   ],
   "source": [
    "list(range(1,12))"
   ]
  },
  {
   "cell_type": "code",
   "execution_count": 79,
   "id": "5409f95e",
   "metadata": {},
   "outputs": [
    {
     "name": "stdout",
     "output_type": "stream",
     "text": [
      "10\n",
      "9\n",
      "8\n",
      "7\n",
      "6\n",
      "5\n",
      "4\n",
      "3\n",
      "2\n",
      "1\n"
     ]
    }
   ],
   "source": [
    "for i in range(10,0,-1):\n",
    "    #-1 is a reverse inicatior\n",
    "    print(i)\n",
    "   # if i ==4:\n",
    "      #  break\n",
    "#range is also iterable"
   ]
  },
  {
   "cell_type": "code",
   "execution_count": 80,
   "id": "42b72424",
   "metadata": {},
   "outputs": [
    {
     "name": "stdout",
     "output_type": "stream",
     "text": [
      "inex of l is 2\n"
     ]
    }
   ],
   "source": [
    "for i,char in enumerate('heloooo'):\n",
    "    if char=='l':\n",
    "        print(f'inex of l is {i}')\n",
    "     #print(i,char)\n",
    "#i an char are like key wor that goes with the function enumerate"
   ]
  },
  {
   "cell_type": "code",
   "execution_count": 86,
   "id": "a711a57b",
   "metadata": {},
   "outputs": [],
   "source": [
    "i=56\n",
    "while i < 50:\n",
    "    pass\n",
    "    #print(i)"
   ]
  },
  {
   "cell_type": "code",
   "execution_count": 87,
   "id": "4155b172",
   "metadata": {},
   "outputs": [],
   "source": [
    "import numpy as np"
   ]
  },
  {
   "cell_type": "code",
   "execution_count": 94,
   "id": "1f5c0d7d",
   "metadata": {},
   "outputs": [],
   "source": [
    "image=[\n",
    "    [0,0,0,1,0,0,0],\n",
    "    [0,0,1,1,1,0,0],\n",
    "    [0,1,1,1,1,1,0],\n",
    "    [1,1,1,1,1,1,1],\n",
    "    [0,0,0,1,0,0,0],\n",
    "    [0,0,0,0,0,0,0]  \n",
    "]"
   ]
  },
  {
   "cell_type": "code",
   "execution_count": 95,
   "id": "d71343a9",
   "metadata": {},
   "outputs": [
    {
     "name": "stdout",
     "output_type": "stream",
     "text": [
      "False\n",
      "False\n",
      "False\n",
      "False\n",
      "False\n",
      "False\n",
      "False\n",
      "False\n",
      "False\n",
      "False\n",
      "False\n",
      "False\n",
      "False\n",
      "False\n",
      "False\n",
      "False\n",
      "False\n",
      "False\n",
      "False\n",
      "False\n",
      "False\n",
      "False\n",
      "False\n",
      "False\n",
      "False\n",
      "False\n",
      "False\n",
      "False\n",
      "False\n",
      "False\n",
      "False\n",
      "False\n",
      "False\n",
      "False\n",
      "False\n",
      "False\n",
      "False\n",
      "False\n",
      "False\n",
      "False\n",
      "False\n",
      "False\n"
     ]
    }
   ],
   "source": [
    "for num in image:\n",
    "    for zeros in num:\n",
    "        print((image.count(zeros))>0)"
   ]
  },
  {
   "cell_type": "code",
   "execution_count": 97,
   "id": "e79b6367",
   "metadata": {},
   "outputs": [
    {
     "name": "stdout",
     "output_type": "stream",
     "text": [
      "   *   \n",
      "  ***  \n",
      " ***** \n",
      "*******\n",
      "   *   \n",
      "       \n"
     ]
    }
   ],
   "source": [
    "for values in image:\n",
    "    for num in values:\n",
    "        if (num):\n",
    "            print('*', end='')\n",
    "        else:\n",
    "            print(' ',end='')\n",
    "    print('')\n",
    "            "
   ]
  },
  {
   "cell_type": "code",
   "execution_count": 98,
   "id": "89a81cc2",
   "metadata": {},
   "outputs": [],
   "source": [
    "#who is a good coder?\n",
    "# code must be clean, reduce spaces and no extra stuff that you dont\n",
    "#need.\n",
    "# that is readability\n",
    "#PREdicability"
   ]
  },
  {
   "cell_type": "code",
   "execution_count": 99,
   "id": "63cf128a",
   "metadata": {},
   "outputs": [],
   "source": [
    "#checking for duplicate\n",
    "some_list=['a','b','c','b','d','m','n','n']\n"
   ]
  },
  {
   "cell_type": "code",
   "execution_count": 100,
   "id": "b5b83e1e",
   "metadata": {},
   "outputs": [
    {
     "name": "stdout",
     "output_type": "stream",
     "text": [
      "b\n",
      "n\n"
     ]
    },
    {
     "data": {
      "text/plain": [
       "['b', 'n']"
      ]
     },
     "execution_count": 100,
     "metadata": {},
     "output_type": "execute_result"
    }
   ],
   "source": [
    "duplicate=[]\n",
    "for alpha in some_list:\n",
    "    if some_list.count(alpha)>1:\n",
    "        if alpha not in duplicate:\n",
    "            print(alpha)\n",
    "            duplicate.append(alpha)\n",
    "duplicate"
   ]
  },
  {
   "cell_type": "code",
   "execution_count": 101,
   "id": "c7e56f8c",
   "metadata": {},
   "outputs": [
    {
     "data": {
      "text/plain": [
       "2"
      ]
     },
     "execution_count": 101,
     "metadata": {},
     "output_type": "execute_result"
    }
   ],
   "source": [
    "some_list.count(alpha)"
   ]
  },
  {
   "cell_type": "code",
   "execution_count": 103,
   "id": "00344080",
   "metadata": {},
   "outputs": [],
   "source": [
    "#some_list[2].count(values)\n"
   ]
  },
  {
   "cell_type": "code",
   "execution_count": 104,
   "id": "ff67a7d9",
   "metadata": {},
   "outputs": [
    {
     "data": {
      "text/plain": [
       "['a', 'b', 'c', 'b', 'd', 'm', 'n', 'n']"
      ]
     },
     "execution_count": 104,
     "metadata": {},
     "output_type": "execute_result"
    }
   ],
   "source": [
    "some_list"
   ]
  },
  {
   "cell_type": "code",
   "execution_count": 105,
   "id": "a0b46949",
   "metadata": {},
   "outputs": [],
   "source": [
    "#checking for duplicate\n",
    "some_list=['a','b','c','b','d','m','n','n']"
   ]
  },
  {
   "cell_type": "code",
   "execution_count": 106,
   "id": "d8a58ced",
   "metadata": {},
   "outputs": [],
   "source": [
    "two=[]\n",
    "for alph in some_list:\n",
    "    if some_list.count(alph)>1:\n",
    "        if alph not in two:\n",
    "            two.append(alph)"
   ]
  },
  {
   "cell_type": "code",
   "execution_count": 107,
   "id": "8834ba18",
   "metadata": {},
   "outputs": [
    {
     "data": {
      "text/plain": [
       "['b', 'n']"
      ]
     },
     "execution_count": 107,
     "metadata": {},
     "output_type": "execute_result"
    }
   ],
   "source": [
    "two"
   ]
  },
  {
   "cell_type": "code",
   "execution_count": 108,
   "id": "7141bc85",
   "metadata": {},
   "outputs": [],
   "source": [
    "image=[\n",
    "    [1,1,1,1,1,1,1],\n",
    "    [1,1,1,1,1,1,1],\n",
    "    [1,0,0,0,0,0,0],\n",
    "    [1,1,1,1,1,1,1],\n",
    "    [0,0,0,0,0,0,1],\n",
    "    [1,1,1,1,1,1,1],\n",
    "    [1,0,0,0,0,0,0],  \n",
    "    [1,0,0,0,0,0,0],  \n",
    "    [1,0,0,0,0,0,0],\n",
    "    [1,1,1,1,1,1,1],\n",
    "    [1,0,0,0,0,0,0],\n",
    "    [1,1,1,1,1,1,1],\n",
    "    [0,0,0,0,0,0,1],\n",
    "    [1,1,1,1,1,1,1],\n",
    "    [1,0,0,0,0,0,0],  \n",
    "    [1,0,0,0,0,0,0],\n",
    "    [1,0,0,0,0,0,0],\n",
    "    [1,1,1,1,1,1,1],\n",
    "    [0,0,0,0,0,0,1],\n",
    "    [1,1,1,1,1,1,1],\n",
    "    [1,0,0,0,0,0,0], \n",
    "    [1,0,0,0,0,0,0],  \n",
    "    [1,0,0,0,0,0,0],\n",
    "    [1,1,1,1,1,1,1],\n",
    "    [1,0,0,0,0,0,0],\n",
    "    [1,1,1,1,1,1,1],\n",
    "    [0,0,0,0,0,0,1],\n",
    "    [1,1,1,1,1,1,1],\n",
    "    [1,0,0,0,0,0,0],  \n",
    "    [1,0,0,0,0,0,0],\n",
    "    [1,0,0,0,0,0,0], \n",
    "]"
   ]
  },
  {
   "cell_type": "code",
   "execution_count": 109,
   "id": "af4a11d6",
   "metadata": {},
   "outputs": [
    {
     "name": "stdout",
     "output_type": "stream",
     "text": [
      "******* \n",
      "******* \n",
      "*       \n",
      "******* \n",
      "      * \n",
      "******* \n",
      "*       \n",
      "*       \n",
      "*       \n",
      "******* \n",
      "*       \n",
      "******* \n",
      "      * \n",
      "******* \n",
      "*       \n",
      "*       \n",
      "*       \n",
      "******* \n",
      "      * \n",
      "******* \n",
      "*       \n",
      "*       \n",
      "*       \n",
      "******* \n",
      "*       \n",
      "******* \n",
      "      * \n",
      "******* \n",
      "*       \n",
      "*       \n",
      "*       \n"
     ]
    }
   ],
   "source": [
    "for num in image:\n",
    "    for zeros in num:\n",
    "        if zeros:\n",
    "            print('*',end='')\n",
    "        else:\n",
    "            print(' ',end='')\n",
    "    print(' ')"
   ]
  },
  {
   "cell_type": "code",
   "execution_count": 1,
   "id": "b16f141e",
   "metadata": {},
   "outputs": [],
   "source": [
    "\n",
    "def christmas_tree(my_list):\n",
    "    your_list=[]\n",
    "    for num in my_list:\n",
    "        for tag in num:\n",
    "            if num.count(tag)>1:\n",
    "                if tag not in your_list:\n",
    "                    your_list.append(tag)\n",
    "                    print(your_list)\n",
    "    "
   ]
  },
  {
   "cell_type": "code",
   "execution_count": 2,
   "id": "02d53cdc",
   "metadata": {},
   "outputs": [
    {
     "name": "stdout",
     "output_type": "stream",
     "text": [
      "[1]\n",
      "[1, 3]\n",
      "[1, 3, 2]\n"
     ]
    }
   ],
   "source": [
    "christmas_tree([\n",
    "    [1,3,2,1,2,1,1,2,3],\n",
    "    [1,3,2,1,2,1,1,2,3]\n",
    "]\n",
    "              )"
   ]
  },
  {
   "cell_type": "markdown",
   "id": "0ba7dd9f",
   "metadata": {},
   "source": [
    "# function\n",
    "#difference between parameters and arguement\n",
    "in th example above 'my_list' is a parameter\n",
    "the the list in the involking or calling of the function is an arguement\n",
    "there are types of arguements, below are some example"
   ]
  },
  {
   "cell_type": "code",
   "execution_count": 112,
   "id": "e3db37cf",
   "metadata": {},
   "outputs": [],
   "source": [
    "#simple function\n",
    "def say_hello():\n",
    "    print('helooo')\n",
    "\n",
    "#now the arguemenys here are name and surname\n",
    "def say_hi(name,sur):\n",
    "    print(f'hello {name} {sur}')\n",
    "    \n",
    "#this contains default parameter\n",
    "#that will run when the function is called without any arguements \n",
    "\n",
    "def say_hi(name='faith',sur='hills'):\n",
    "    print(f'hello {name} {sur}')"
   ]
  },
  {
   "cell_type": "code",
   "execution_count": 113,
   "id": "6e94e9ca",
   "metadata": {},
   "outputs": [
    {
     "name": "stdout",
     "output_type": "stream",
     "text": [
      "hello faith hillary\n"
     ]
    }
   ],
   "source": [
    "#now this contains positional arguements\n",
    "say_hi(\"faith\",\"hillary\")"
   ]
  },
  {
   "cell_type": "code",
   "execution_count": 114,
   "id": "dc758eea",
   "metadata": {},
   "outputs": [
    {
     "name": "stdout",
     "output_type": "stream",
     "text": [
      "hello faith hillary\n"
     ]
    }
   ],
   "source": [
    "#now thias contain a keyword  arguement\n",
    "say_hi(sur=\"hillary\",name=\"faith\")"
   ]
  },
  {
   "cell_type": "code",
   "execution_count": 115,
   "id": "8336de5a",
   "metadata": {},
   "outputs": [
    {
     "name": "stdout",
     "output_type": "stream",
     "text": [
      "hello faith hills\n"
     ]
    }
   ],
   "source": [
    "say_hi()"
   ]
  },
  {
   "cell_type": "code",
   "execution_count": 116,
   "id": "2fe035d5",
   "metadata": {},
   "outputs": [
    {
     "data": {
      "text/plain": [
       "2"
      ]
     },
     "execution_count": 116,
     "metadata": {},
     "output_type": "execute_result"
    }
   ],
   "source": [
    "#methosd and functions\n",
    "#method is use after the . to take action on our data type\n",
    "#method has to be own by something and that is whatever is to the \n",
    "#left of the dot\n",
    "#example below, hello. and pressing down the tab key brings out all\n",
    "#the method that attachs to a string and we picked count\n",
    "'hello'.count('l')"
   ]
  },
  {
   "cell_type": "code",
   "execution_count": 117,
   "id": "6a1daebd",
   "metadata": {},
   "outputs": [],
   "source": [
    "def test(a):\n",
    "    '''\n",
    "    info: this prints a\n",
    "    '''\n",
    "    print('a')\n",
    "    \n",
    "    \n",
    "#doctstring allows us to comment on a function"
   ]
  },
  {
   "cell_type": "code",
   "execution_count": 118,
   "id": "c6825fa1",
   "metadata": {},
   "outputs": [
    {
     "name": "stdout",
     "output_type": "stream",
     "text": [
      "a\n"
     ]
    }
   ],
   "source": [
    "test('C')"
   ]
  },
  {
   "cell_type": "code",
   "execution_count": 23,
   "id": "b7b20ca6",
   "metadata": {},
   "outputs": [
    {
     "name": "stdout",
     "output_type": "stream",
     "text": [
      "5 man\n"
     ]
    }
   ],
   "source": [
    "#rule: param, *args, default parameters,**kwarrg \n",
    "def super_func(args,**kwargs):\n",
    "    print(args,*kwargs)\n",
    "\n",
    "super_func(5,man='henry' )"
   ]
  },
  {
   "cell_type": "code",
   "execution_count": 120,
   "id": "8f096d0f",
   "metadata": {},
   "outputs": [],
   "source": [
    "def highest_even(args):\n",
    "    num=[]\n",
    "    for i in args:\n",
    "        if i %2==0:\n",
    "            num.append(i)\n",
    "    return max(num)  \n"
   ]
  },
  {
   "cell_type": "code",
   "execution_count": 121,
   "id": "f56efd1b",
   "metadata": {},
   "outputs": [
    {
     "data": {
      "text/plain": [
       "10"
      ]
     },
     "execution_count": 121,
     "metadata": {},
     "output_type": "execute_result"
    }
   ],
   "source": [
    "highest_even([10,2,3,4,8,11])"
   ]
  },
  {
   "cell_type": "code",
   "execution_count": 122,
   "id": "3f52bf99",
   "metadata": {},
   "outputs": [],
   "source": [
    "total=0\n",
    "def count():\n",
    "    global total\n",
    "    total=total+1\n",
    "    return total\n"
   ]
  },
  {
   "cell_type": "code",
   "execution_count": 123,
   "id": "39cf45ef",
   "metadata": {},
   "outputs": [
    {
     "data": {
      "text/plain": [
       "1"
      ]
     },
     "execution_count": 123,
     "metadata": {},
     "output_type": "execute_result"
    }
   ],
   "source": [
    "count()"
   ]
  },
  {
   "cell_type": "code",
   "execution_count": 124,
   "id": "c6f6934c",
   "metadata": {},
   "outputs": [
    {
     "data": {
      "text/plain": [
       "2"
      ]
     },
     "execution_count": 124,
     "metadata": {},
     "output_type": "execute_result"
    }
   ],
   "source": [
    "count()"
   ]
  },
  {
   "cell_type": "markdown",
   "id": "e47f75f3",
   "metadata": {},
   "source": [
    "# oop"
   ]
  },
  {
   "cell_type": "code",
   "execution_count": 125,
   "id": "c2208937",
   "metadata": {},
   "outputs": [],
   "source": [
    "#OBJECT ORIENTEd PROGRAMMING\n",
    "#instantiate means creatin something on the class blue print"
   ]
  },
  {
   "cell_type": "code",
   "execution_count": 126,
   "id": "debb6bd2",
   "metadata": {},
   "outputs": [],
   "source": [
    "#BLUE PRINT, CREATE DIFFRENT OBJECT OVER ANCSF\n",
    "class BigObject:\n",
    "    pass"
   ]
  },
  {
   "cell_type": "code",
   "execution_count": 127,
   "id": "4dc13821",
   "metadata": {},
   "outputs": [],
   "source": [
    "obj1=BigObject()"
   ]
  },
  {
   "cell_type": "code",
   "execution_count": 128,
   "id": "a56d5528",
   "metadata": {},
   "outputs": [
    {
     "name": "stdout",
     "output_type": "stream",
     "text": [
      "<class '__main__.BigObject'>\n"
     ]
    }
   ],
   "source": [
    "print(type(obj1))"
   ]
  },
  {
   "cell_type": "code",
   "execution_count": 129,
   "id": "1a696058",
   "metadata": {},
   "outputs": [
    {
     "name": "stdout",
     "output_type": "stream",
     "text": [
      "69\n"
     ]
    }
   ],
   "source": [
    "#coding our own class\n",
    "class PlayerCharacter:\n",
    "    def __init__(self,age):\n",
    "        if (age>18):\n",
    "            self.age=age\n",
    "    \n",
    "   # def run(seif):\n",
    "        #print('eun')\n",
    "        \n",
    "player1=PlayerCharacter(69)\n",
    "\n",
    "print(player1.age)"
   ]
  },
  {
   "cell_type": "code",
   "execution_count": 130,
   "id": "3c851bc7",
   "metadata": {},
   "outputs": [],
   "source": [
    "class PlayerCharacter:\n",
    "    #class object attribute\n",
    "    membership=True\n",
    "    name='tony'\n",
    "    age=56\n",
    "    #it is not dynamic, its stagnant, this means all object instiatednor\n",
    "    #created will have acess to it memebership trued\n",
    "    def __init__(self,name='faith',age=26):\n",
    "        self.age=age\n",
    "        self.name=name\n",
    "         #attribute unique to the object\n",
    "#constructor method\n",
    "\n",
    "    @classmethod        \n",
    "    def put_2geda(cls,num1,num2):\n",
    "        print(num1+num2)\n",
    "    @classmethod\n",
    "    def run(self):\n",
    "        print(f'player{self.name}has ran away')"
   ]
  },
  {
   "cell_type": "code",
   "execution_count": 131,
   "id": "0b692f41",
   "metadata": {},
   "outputs": [],
   "source": [
    "player1=PlayerCharacter(name='tony',age=4)\n",
    "player2=PlayerCharacter('hillary',19)\n",
    "player3=PlayerCharacter()"
   ]
  },
  {
   "cell_type": "code",
   "execution_count": 132,
   "id": "e2b559c0",
   "metadata": {},
   "outputs": [
    {
     "data": {
      "text/plain": [
       "('tony', 'hillary', 'faith')"
      ]
     },
     "execution_count": 132,
     "metadata": {},
     "output_type": "execute_result"
    }
   ],
   "source": [
    "player1.name, player2.name,player3.name"
   ]
  },
  {
   "cell_type": "code",
   "execution_count": 133,
   "id": "3d7c717e",
   "metadata": {},
   "outputs": [
    {
     "name": "stdout",
     "output_type": "stream",
     "text": [
      "7\n"
     ]
    }
   ],
   "source": [
    "player1.put_2geda(3,4)"
   ]
  },
  {
   "cell_type": "code",
   "execution_count": 134,
   "id": "41aaa4f5",
   "metadata": {},
   "outputs": [
    {
     "name": "stdout",
     "output_type": "stream",
     "text": [
      "playertonyhas ran away\n"
     ]
    }
   ],
   "source": [
    "player1.run()"
   ]
  },
  {
   "cell_type": "code",
   "execution_count": 135,
   "id": "53f126e4",
   "metadata": {},
   "outputs": [
    {
     "data": {
      "text/plain": [
       "True"
      ]
     },
     "execution_count": 135,
     "metadata": {},
     "output_type": "execute_result"
    }
   ],
   "source": [
    "player1.membership\n",
    "#but from what we have observed these variables in our class can be modified can\n",
    "#can you imagine this brings us to talk about private and public classes"
   ]
  },
  {
   "cell_type": "code",
   "execution_count": 136,
   "id": "6cdf3523",
   "metadata": {},
   "outputs": [
    {
     "data": {
      "text/plain": [
       "9"
      ]
     },
     "execution_count": 136,
     "metadata": {},
     "output_type": "execute_result"
    }
   ],
   "source": [
    "player1.age=9\n",
    "player1.age"
   ]
  },
  {
   "cell_type": "markdown",
   "id": "58dd6fc0",
   "metadata": {},
   "source": [
    "#OOP REVIEW\n",
    "class NameOfClass:\n",
    "    def __init__(self,param,param1):\n",
    "        self.param=param\n",
    "        self.param1=param1\n",
    "    def method(self):\n",
    "        #code\n",
    "        @classmethod\n",
    "    def cls_method(cls,param1,param):\n",
    "        #creating a new player from this code\n",
    "        return cls(param1,param)\n",
    "        @staticmethod\n",
    "     def cls_method(cls,param1,param):\n",
    "                return (param%%!1,param)"
   ]
  },
  {
   "cell_type": "code",
   "execution_count": 141,
   "id": "02c9caab",
   "metadata": {},
   "outputs": [],
   "source": [
    "#OOP encapsulation: binding of data and function into a box\n",
    "#OOP abstraction : hidding information underneath the def method hood\n",
    "class School:\n",
    "    Pay_fees=False\n",
    "    def __init__(self, building, buses,teachers,boarders):\n",
    "        self.building=building\n",
    "        self.buses=buses\n",
    "        self.teachers=teachers\n",
    "        self.boarders=boarders\n",
    "    def go(self):\n",
    "        print(f'i can go to school with {self.buses}buses')"
   ]
  },
  {
   "cell_type": "code",
   "execution_count": 160,
   "id": "07278ac2",
   "metadata": {},
   "outputs": [],
   "source": [
    "his_majesty_grp_of_school=School('2_storey',3,20,True)"
   ]
  },
  {
   "cell_type": "code",
   "execution_count": 162,
   "id": "1a046ecb",
   "metadata": {},
   "outputs": [
    {
     "name": "stdout",
     "output_type": "stream",
     "text": [
      "faith can go to school with 3buses\n"
     ]
    }
   ],
   "source": [
    "his_majesty_grp_of_school.go('faith')"
   ]
  },
  {
   "cell_type": "code",
   "execution_count": 144,
   "id": "0088848b",
   "metadata": {},
   "outputs": [],
   "source": [
    "#now lets talk about private and private classes"
   ]
  },
  {
   "cell_type": "code",
   "execution_count": 155,
   "id": "ecf1ff12",
   "metadata": {},
   "outputs": [],
   "source": [
    "#spot the difference from the first(there is a -)\n",
    "class School:\n",
    "    Pay_fees=False\n",
    "    def __init__(self, building, buses,teachers,boarders):\n",
    "        self.building=building\n",
    "        self._buses=buses\n",
    "        self.teachers=teachers\n",
    "        self.boarders=boarders\n",
    "    def go(self,namr):\n",
    "        print(f'{namr} can go to school with {self._buses}buses')"
   ]
  },
  {
   "cell_type": "code",
   "execution_count": 159,
   "id": "b1919d16",
   "metadata": {},
   "outputs": [
    {
     "name": "stdout",
     "output_type": "stream",
     "text": [
      "i can go to school with 8buses\n"
     ]
    }
   ],
   "source": [
    "his_majesty_grp_of_school.go()"
   ]
  },
  {
   "cell_type": "code",
   "execution_count": 163,
   "id": "e115c680",
   "metadata": {},
   "outputs": [],
   "source": [
    "his_majesty_grp_of_school.buses=8"
   ]
  },
  {
   "cell_type": "code",
   "execution_count": 164,
   "id": "2d8f2cbb",
   "metadata": {},
   "outputs": [
    {
     "data": {
      "text/plain": [
       "8"
      ]
     },
     "execution_count": 164,
     "metadata": {},
     "output_type": "execute_result"
    }
   ],
   "source": [
    "his_majesty_grp_of_school.buses"
   ]
  },
  {
   "cell_type": "code",
   "execution_count": 14,
   "id": "0fd4ee22",
   "metadata": {},
   "outputs": [],
   "source": [
    "#OOP encapsulation: binding of data and function into a box\n",
    "#OOP abstraction : hidding information underneath the def method hood\n",
    "#OOP inheritance:allows yoi take on the properties or already objecct\n",
    "class FarmAction():\n",
    "    def action(self):\n",
    "        print('logged in')\n",
    "        \n",
    "class Irrigataor(FarmAction): \n",
    "    def __init__ (self,humidity,water_lev,span):\n",
    "        self.humidity=humidity\n",
    "        self.water_lev=water_lev\n",
    "        self.span=span\n",
    "    \n",
    "    def \n",
    "\n",
    "class Cooler(FarmAction):\n",
    "    def __init__ (self,humidity,water_lev,span):\n",
    "    pass\n",
    "\n",
    "melon=FarmAction()"
   ]
  },
  {
   "cell_type": "code",
   "execution_count": 15,
   "id": "edf49b01",
   "metadata": {},
   "outputs": [
    {
     "name": "stdout",
     "output_type": "stream",
     "text": [
      "logged in\n"
     ]
    }
   ],
   "source": [
    "melon.action()"
   ]
  },
  {
   "cell_type": "code",
   "execution_count": 24,
   "id": "66a95d14",
   "metadata": {},
   "outputs": [],
   "source": [
    "#EXERCISE\n",
    "# passing the attribut in the class bracket into its paradign\n",
    "class SuperList(str):\n",
    "    def __len__ (self):\n",
    "        return 100\n",
    "\n",
    "    "
   ]
  },
  {
   "cell_type": "code",
   "execution_count": 28,
   "id": "075d93c9",
   "metadata": {},
   "outputs": [],
   "source": [
    "list1=SuperList('my name is')\n"
   ]
  },
  {
   "cell_type": "code",
   "execution_count": 29,
   "id": "1580f562",
   "metadata": {},
   "outputs": [
    {
     "data": {
      "text/plain": [
       "'MY NAMEIS'"
      ]
     },
     "execution_count": 29,
     "metadata": {},
     "output_type": "execute_result"
    }
   ],
   "source": [
    "list1.upper()\n"
   ]
  },
  {
   "cell_type": "code",
   "execution_count": 20,
   "id": "bd3b14cb",
   "metadata": {},
   "outputs": [],
   "source": [
    "list1.append(7)"
   ]
  },
  {
   "cell_type": "code",
   "execution_count": 23,
   "id": "e9939bd3",
   "metadata": {},
   "outputs": [
    {
     "data": {
      "text/plain": [
       "7"
      ]
     },
     "execution_count": 23,
     "metadata": {},
     "output_type": "execute_result"
    }
   ],
   "source": [
    "list1[1]"
   ]
  },
  {
   "cell_type": "code",
   "execution_count": 22,
   "id": "f8cab392",
   "metadata": {},
   "outputs": [
    {
     "data": {
      "text/plain": [
       "100"
      ]
     },
     "execution_count": 22,
     "metadata": {},
     "output_type": "execute_result"
    }
   ],
   "source": [
    "len(list1)"
   ]
  },
  {
   "cell_type": "code",
   "execution_count": 110,
   "id": "252f999c",
   "metadata": {},
   "outputs": [],
   "source": [
    "class daddy():\n",
    "    def angry(self):\n",
    "        print('shout')\n",
    "        \n",
    "    def happy(self):\n",
    "        print('smiles and give you money')\n",
    "        \n",
    "        \n",
    "    \n",
    "class wife(daddy):\n",
    "    def __init__ (self,age=34):\n",
    "        self.age=age\n",
    "            \n",
    "    \n",
    "class boy(daddy):\n",
    "    def __init__ (self,position):\n",
    "        self.position=position\n",
    "    \n",
    "    def intro(self):\n",
    "        print(f'hi, my name is {boy}, and i am no {self.position} in my family', )\n",
    "\n",
    "class girl(wife,boy):\n",
    "    def __init__ (self,position):\n",
    "        self.position=position"
   ]
  },
  {
   "cell_type": "code",
   "execution_count": 104,
   "id": "5479bcfc",
   "metadata": {},
   "outputs": [],
   "source": [
    "richie=boy(1)\n"
   ]
  },
  {
   "cell_type": "code",
   "execution_count": 105,
   "id": "b88d8d3c",
   "metadata": {},
   "outputs": [
    {
     "name": "stdout",
     "output_type": "stream",
     "text": [
      "shout\n"
     ]
    }
   ],
   "source": [
    "richie.angry()"
   ]
  },
  {
   "cell_type": "code",
   "execution_count": 111,
   "id": "f8036d08",
   "metadata": {},
   "outputs": [],
   "source": [
    "nene=girl(3)"
   ]
  },
  {
   "cell_type": "code",
   "execution_count": 112,
   "id": "2115eebb",
   "metadata": {},
   "outputs": [
    {
     "ename": "AttributeError",
     "evalue": "'girl' object has no attribute 'shout'",
     "output_type": "error",
     "traceback": [
      "\u001b[1;31m---------------------------------------------------------------------------\u001b[0m",
      "\u001b[1;31mAttributeError\u001b[0m                            Traceback (most recent call last)",
      "\u001b[1;32m<ipython-input-112-8ffc63e73ff5>\u001b[0m in \u001b[0;36m<module>\u001b[1;34m\u001b[0m\n\u001b[1;32m----> 1\u001b[1;33m \u001b[0mnene\u001b[0m\u001b[1;33m.\u001b[0m\u001b[0mshout\u001b[0m\u001b[1;33m(\u001b[0m\u001b[1;33m)\u001b[0m\u001b[1;33m\u001b[0m\u001b[1;33m\u001b[0m\u001b[0m\n\u001b[0m",
      "\u001b[1;31mAttributeError\u001b[0m: 'girl' object has no attribute 'shout'"
     ]
    }
   ],
   "source": [
    "nene.angry()"
   ]
  },
  {
   "cell_type": "code",
   "execution_count": 49,
   "id": "e528324d",
   "metadata": {},
   "outputs": [],
   "source": [
    "#python Decorators\n",
    "from time import time\n",
    "def functio():\n",
    "    def fuuc():\n",
    "        pass\n",
    "    return fuuc\n"
   ]
  },
  {
   "cell_type": "code",
   "execution_count": 32,
   "id": "f47cd9b9",
   "metadata": {},
   "outputs": [],
   "source": [
    "def performance(func):\n",
    "    def wrap(*args,**kwargs):\n",
    "        t1=time()\n",
    "        result=func(*args, **kwargs)\n",
    "        print(22)\n",
    "        t2=time()\n",
    "        print(t2-t1)\n",
    "    return wrap\n",
    "        "
   ]
  },
  {
   "cell_type": "code",
   "execution_count": 35,
   "id": "97d8888f",
   "metadata": {},
   "outputs": [],
   "source": [
    "@performance\n",
    "def run_time():\n",
    "    for i in range(5000000):\n",
    "        i*5"
   ]
  },
  {
   "cell_type": "code",
   "execution_count": 36,
   "id": "4ee2fb20",
   "metadata": {},
   "outputs": [
    {
     "name": "stdout",
     "output_type": "stream",
     "text": [
      "22\n",
      "2.0048828125\n"
     ]
    }
   ],
   "source": [
    "run_time()"
   ]
  },
  {
   "cell_type": "markdown",
   "id": "26b28120",
   "metadata": {},
   "source": [
    "## Error handling"
   ]
  },
  {
   "cell_type": "code",
   "execution_count": null,
   "id": "6ee7aec9",
   "metadata": {},
   "outputs": [],
   "source": [
    "while True:\n",
    "    try:\n",
    "        age=int(input('what is your age'))\n",
    "        10/age\n",
    "    except:\n",
    "        print('please enter a number')\n",
    "    else:\n",
    "        print('thank you')\n",
    "        break"
   ]
  },
  {
   "cell_type": "code",
   "execution_count": null,
   "id": "ad0b0a8e",
   "metadata": {},
   "outputs": [],
   "source": [
    "0/3"
   ]
  },
  {
   "cell_type": "markdown",
   "id": "664aea01",
   "metadata": {},
   "source": [
    "## generators"
   ]
  },
  {
   "cell_type": "code",
   "execution_count": 24,
   "id": "4e33b8a6",
   "metadata": {},
   "outputs": [
    {
     "data": {
      "text/plain": [
       "range(0, 100)"
      ]
     },
     "execution_count": 24,
     "metadata": {},
     "output_type": "execute_result"
    }
   ],
   "source": [
    "range(100)"
   ]
  },
  {
   "cell_type": "code",
   "execution_count": 79,
   "id": "07ed6f6a",
   "metadata": {},
   "outputs": [],
   "source": [
    "#GENERATOR IS A SUBSET OF ITERABLES\n",
    "def make_list(num):\n",
    "    list1=[]\n",
    "    for i in range(num):\n",
    "        list1.append(i*2)\n",
    "    return list1"
   ]
  },
  {
   "cell_type": "code",
   "execution_count": 80,
   "id": "886eb85c",
   "metadata": {},
   "outputs": [
    {
     "data": {
      "text/plain": [
       "[0, 2, 4, 6, 8, 10, 12, 14, 16, 18, 20, 22]"
      ]
     },
     "execution_count": 80,
     "metadata": {},
     "output_type": "execute_result"
    }
   ],
   "source": [
    "make_list(12)"
   ]
  },
  {
   "cell_type": "code",
   "execution_count": 92,
   "id": "feb7d7ac",
   "metadata": {},
   "outputs": [],
   "source": [
    "def generators_func(num):\n",
    "    for i in range(num):\n",
    "        yield i*2"
   ]
  },
  {
   "cell_type": "code",
   "execution_count": 94,
   "id": "65a91fdc",
   "metadata": {},
   "outputs": [
    {
     "ename": "StopIteration",
     "evalue": "",
     "output_type": "error",
     "traceback": [
      "\u001b[1;31m---------------------------------------------------------------------------\u001b[0m",
      "\u001b[1;31mStopIteration\u001b[0m                             Traceback (most recent call last)",
      "\u001b[1;32m<ipython-input-94-1ea00fcee763>\u001b[0m in \u001b[0;36m<module>\u001b[1;34m\u001b[0m\n\u001b[0;32m      2\u001b[0m \u001b[0mnext\u001b[0m\u001b[1;33m(\u001b[0m\u001b[0mg\u001b[0m\u001b[1;33m)\u001b[0m\u001b[1;33m\u001b[0m\u001b[1;33m\u001b[0m\u001b[0m\n\u001b[0;32m      3\u001b[0m \u001b[0mnext\u001b[0m\u001b[1;33m(\u001b[0m\u001b[0mg\u001b[0m\u001b[1;33m)\u001b[0m\u001b[1;33m\u001b[0m\u001b[1;33m\u001b[0m\u001b[0m\n\u001b[1;32m----> 4\u001b[1;33m \u001b[0mnext\u001b[0m\u001b[1;33m(\u001b[0m\u001b[0mg\u001b[0m\u001b[1;33m)\u001b[0m\u001b[1;33m\u001b[0m\u001b[1;33m\u001b[0m\u001b[0m\n\u001b[0m\u001b[0;32m      5\u001b[0m \u001b[0mprint\u001b[0m\u001b[1;33m(\u001b[0m\u001b[0mnext\u001b[0m\u001b[1;33m(\u001b[0m\u001b[0mg\u001b[0m\u001b[1;33m)\u001b[0m\u001b[1;33m)\u001b[0m\u001b[1;33m\u001b[0m\u001b[1;33m\u001b[0m\u001b[0m\n",
      "\u001b[1;31mStopIteration\u001b[0m: "
     ]
    }
   ],
   "source": [
    "g=generators_func(2)\n",
    "next(g)\n",
    "next(g)\n",
    "next(g)\n",
    "print(next(g))"
   ]
  },
  {
   "cell_type": "code",
   "execution_count": 104,
   "id": "dbe45be5",
   "metadata": {},
   "outputs": [],
   "source": [
    "def performance(func):\n",
    "    def wrap(*args,**kwargs):\n",
    "        t1=time()\n",
    "        result=func(*args, **kwargs)\n",
    "        t2=time()\n",
    "        print(t2-t1)\n",
    "    return wrap"
   ]
  },
  {
   "cell_type": "code",
   "execution_count": 105,
   "id": "df47e4e9",
   "metadata": {},
   "outputs": [],
   "source": [
    "@performance\n",
    "def run_time1():\n",
    "    for i in range(5000000):\n",
    "        i*5"
   ]
  },
  {
   "cell_type": "code",
   "execution_count": 106,
   "id": "f04850fa",
   "metadata": {},
   "outputs": [
    {
     "name": "stdout",
     "output_type": "stream",
     "text": [
      "219.478515625\n"
     ]
    }
   ],
   "source": [
    "run_time1()"
   ]
  },
  {
   "cell_type": "code",
   "execution_count": 107,
   "id": "6ab7efcb",
   "metadata": {},
   "outputs": [],
   "source": [
    "@performance\n",
    "def run_time2():\n",
    "    for i in list(range(5000000)):\n",
    "        i*5\n"
   ]
  },
  {
   "cell_type": "code",
   "execution_count": 108,
   "id": "9ab888a6",
   "metadata": {},
   "outputs": [
    {
     "ename": "MemoryError",
     "evalue": "",
     "output_type": "error",
     "traceback": [
      "\u001b[1;31m---------------------------------------------------------------------------\u001b[0m",
      "\u001b[1;31mMemoryError\u001b[0m                               Traceback (most recent call last)",
      "\u001b[1;32m<ipython-input-108-dac80bcb5f5a>\u001b[0m in \u001b[0;36m<module>\u001b[1;34m\u001b[0m\n\u001b[1;32m----> 1\u001b[1;33m \u001b[0mrun_time2\u001b[0m\u001b[1;33m(\u001b[0m\u001b[1;33m)\u001b[0m\u001b[1;33m\u001b[0m\u001b[1;33m\u001b[0m\u001b[0m\n\u001b[0m",
      "\u001b[1;32m<ipython-input-104-57a915360213>\u001b[0m in \u001b[0;36mwrap\u001b[1;34m(*args, **kwargs)\u001b[0m\n\u001b[0;32m      2\u001b[0m     \u001b[1;32mdef\u001b[0m \u001b[0mwrap\u001b[0m\u001b[1;33m(\u001b[0m\u001b[1;33m*\u001b[0m\u001b[0margs\u001b[0m\u001b[1;33m,\u001b[0m\u001b[1;33m**\u001b[0m\u001b[0mkwargs\u001b[0m\u001b[1;33m)\u001b[0m\u001b[1;33m:\u001b[0m\u001b[1;33m\u001b[0m\u001b[1;33m\u001b[0m\u001b[0m\n\u001b[0;32m      3\u001b[0m         \u001b[0mt1\u001b[0m\u001b[1;33m=\u001b[0m\u001b[0mtime\u001b[0m\u001b[1;33m(\u001b[0m\u001b[1;33m)\u001b[0m\u001b[1;33m\u001b[0m\u001b[1;33m\u001b[0m\u001b[0m\n\u001b[1;32m----> 4\u001b[1;33m         \u001b[0mresult\u001b[0m\u001b[1;33m=\u001b[0m\u001b[0mfunc\u001b[0m\u001b[1;33m(\u001b[0m\u001b[1;33m*\u001b[0m\u001b[0margs\u001b[0m\u001b[1;33m,\u001b[0m \u001b[1;33m**\u001b[0m\u001b[0mkwargs\u001b[0m\u001b[1;33m)\u001b[0m\u001b[1;33m\u001b[0m\u001b[1;33m\u001b[0m\u001b[0m\n\u001b[0m\u001b[0;32m      5\u001b[0m         \u001b[0mt2\u001b[0m\u001b[1;33m=\u001b[0m\u001b[0mtime\u001b[0m\u001b[1;33m(\u001b[0m\u001b[1;33m)\u001b[0m\u001b[1;33m\u001b[0m\u001b[1;33m\u001b[0m\u001b[0m\n\u001b[0;32m      6\u001b[0m         \u001b[0mprint\u001b[0m\u001b[1;33m(\u001b[0m\u001b[0mt2\u001b[0m\u001b[1;33m-\u001b[0m\u001b[0mt1\u001b[0m\u001b[1;33m)\u001b[0m\u001b[1;33m\u001b[0m\u001b[1;33m\u001b[0m\u001b[0m\n",
      "\u001b[1;32m<ipython-input-107-e84aa8e2bd77>\u001b[0m in \u001b[0;36mrun_time2\u001b[1;34m()\u001b[0m\n\u001b[0;32m      1\u001b[0m \u001b[1;33m@\u001b[0m\u001b[0mperformance\u001b[0m\u001b[1;33m\u001b[0m\u001b[1;33m\u001b[0m\u001b[0m\n\u001b[0;32m      2\u001b[0m \u001b[1;32mdef\u001b[0m \u001b[0mrun_time2\u001b[0m\u001b[1;33m(\u001b[0m\u001b[1;33m)\u001b[0m\u001b[1;33m:\u001b[0m\u001b[1;33m\u001b[0m\u001b[1;33m\u001b[0m\u001b[0m\n\u001b[1;32m----> 3\u001b[1;33m     \u001b[1;32mfor\u001b[0m \u001b[0mi\u001b[0m \u001b[1;32min\u001b[0m \u001b[0mlist\u001b[0m\u001b[1;33m(\u001b[0m\u001b[0mrange\u001b[0m\u001b[1;33m(\u001b[0m\u001b[1;36m500000000\u001b[0m\u001b[1;33m)\u001b[0m\u001b[1;33m)\u001b[0m\u001b[1;33m:\u001b[0m\u001b[1;33m\u001b[0m\u001b[1;33m\u001b[0m\u001b[0m\n\u001b[0m\u001b[0;32m      4\u001b[0m         \u001b[0mi\u001b[0m\u001b[1;33m*\u001b[0m\u001b[1;36m5\u001b[0m\u001b[1;33m\u001b[0m\u001b[1;33m\u001b[0m\u001b[0m\n",
      "\u001b[1;31mMemoryError\u001b[0m: "
     ]
    }
   ],
   "source": [
    "run_time2()"
   ]
  },
  {
   "cell_type": "code",
   "execution_count": null,
   "id": "c7b51c72",
   "metadata": {},
   "outputs": [],
   "source": []
  },
  {
   "cell_type": "code",
   "execution_count": 118,
   "id": "998e2e56",
   "metadata": {},
   "outputs": [
    {
     "data": {
      "text/plain": [
       "3"
      ]
     },
     "execution_count": 118,
     "metadata": {},
     "output_type": "execute_result"
    }
   ],
   "source": [
    "f0=0\n",
    "f1=1\n",
    "f2=f0+f1\n",
    "f3=f2+f1\n",
    "f4=f3+f2\n",
    "f4\n",
    "\n",
    "0\n",
    "1\n",
    "0+1=1\n",
    "1+1=2\n",
    "1+2=3\n"
   ]
  },
  {
   "cell_type": "code",
   "execution_count": 185,
   "id": "482fa138",
   "metadata": {},
   "outputs": [
    {
     "data": {
      "text/plain": [
       "1"
      ]
     },
     "execution_count": 185,
     "metadata": {},
     "output_type": "execute_result"
    }
   ],
   "source": [
    "a=0\n",
    "b=1\n",
    "a=b\n",
    "a"
   ]
  },
  {
   "cell_type": "code",
   "execution_count": 186,
   "id": "ddefd2ad",
   "metadata": {},
   "outputs": [],
   "source": [
    "def fib(num):\n",
    "    a=0\n",
    "    b=1 \n",
    "    for n in range(num):\n",
    "        yield a\n",
    "        temp=a\n",
    "        print(temp)\n",
    "        a=b\n",
    "        print(a,b)\n",
    "        b=temp+b\n",
    "        print(b)\n"
   ]
  },
  {
   "cell_type": "code",
   "execution_count": 187,
   "id": "dd3692d5",
   "metadata": {},
   "outputs": [
    {
     "name": "stdout",
     "output_type": "stream",
     "text": [
      "0\n",
      "0\n",
      "1 1\n",
      "1\n",
      "1\n",
      "1\n",
      "1 1\n",
      "2\n",
      "1\n",
      "1\n",
      "2 2\n",
      "3\n",
      "2\n",
      "2\n",
      "3 3\n",
      "5\n",
      "3\n",
      "3\n",
      "5 5\n",
      "8\n",
      "5\n",
      "5\n",
      "8 8\n",
      "13\n",
      "8\n",
      "8\n",
      "13 13\n",
      "21\n",
      "13\n",
      "13\n",
      "21 21\n",
      "34\n",
      "21\n",
      "21\n",
      "34 34\n",
      "55\n",
      "34\n",
      "34\n",
      "55 55\n",
      "89\n",
      "55\n",
      "55\n",
      "89 89\n",
      "144\n",
      "89\n",
      "89\n",
      "144 144\n",
      "233\n",
      "144\n",
      "144\n",
      "233 233\n",
      "377\n",
      "233\n",
      "233\n",
      "377 377\n",
      "610\n",
      "377\n",
      "377\n",
      "610 610\n",
      "987\n",
      "610\n",
      "610\n",
      "987 987\n",
      "1597\n",
      "987\n",
      "987\n",
      "1597 1597\n",
      "2584\n",
      "1597\n",
      "1597\n",
      "2584 2584\n",
      "4181\n",
      "2584\n",
      "2584\n",
      "4181 4181\n",
      "6765\n",
      "4181\n",
      "4181\n",
      "6765 6765\n",
      "10946\n"
     ]
    }
   ],
   "source": [
    "for x in fib(20):\n",
    "    print(x)\n"
   ]
  },
  {
   "cell_type": "code",
   "execution_count": 164,
   "id": "44430db9",
   "metadata": {},
   "outputs": [
    {
     "name": "stdout",
     "output_type": "stream",
     "text": [
      "2\n"
     ]
    }
   ],
   "source": [
    "print(next(f))"
   ]
  },
  {
   "cell_type": "code",
   "execution_count": 166,
   "id": "d7a319ba",
   "metadata": {},
   "outputs": [
    {
     "data": {
      "text/plain": [
       "0"
      ]
     },
     "execution_count": 166,
     "metadata": {},
     "output_type": "execute_result"
    }
   ],
   "source": [
    "f0"
   ]
  },
  {
   "cell_type": "code",
   "execution_count": 210,
   "id": "ea559af3",
   "metadata": {},
   "outputs": [],
   "source": [
    "#0 1,1,2,3,5,8,13,21,34,55,89,\n",
    "\n",
    "\n",
    "def numb(num):\n",
    "    a=0\n",
    "    b=1\n",
    "    for n in range(num):\n",
    "        yield a\n",
    "        c=a\n",
    "        a=b\n",
    "        b=c+b\n",
    "        #print(a,b)"
   ]
  },
  {
   "cell_type": "code",
   "execution_count": 211,
   "id": "c0c7f9e8",
   "metadata": {},
   "outputs": [
    {
     "name": "stdout",
     "output_type": "stream",
     "text": [
      "0\n",
      "1\n",
      "1\n",
      "2\n",
      "3\n",
      "5\n",
      "8\n",
      "13\n",
      "21\n"
     ]
    }
   ],
   "source": [
    "for y in numb(9):\n",
    "    print(y)"
   ]
  },
  {
   "cell_type": "code",
   "execution_count": 212,
   "id": "a7720f25",
   "metadata": {},
   "outputs": [],
   "source": [
    "def fab(num):\n",
    "    a=0\n",
    "    b=1\n",
    "    for i in range(num):\n",
    "        yield a\n",
    "        c=a\n",
    "        a=b\n",
    "        b=c+b"
   ]
  },
  {
   "cell_type": "code",
   "execution_count": 238,
   "id": "f1752f7e",
   "metadata": {},
   "outputs": [],
   "source": [
    "def fab(nums):\n",
    "    a=0\n",
    "    b=0\n",
    "    for i in range(nums):\n",
    "        yield a\n",
    "        c=a\n",
    "        b=c+1\n",
    "        a=b\n",
    "        "
   ]
  },
  {
   "cell_type": "code",
   "execution_count": 241,
   "id": "c4b96990",
   "metadata": {},
   "outputs": [],
   "source": [
    "for y in fab(900):\n",
    "    pass"
   ]
  },
  {
   "cell_type": "markdown",
   "id": "27dfcddd",
   "metadata": {},
   "source": [
    "## object oriented rogramming"
   ]
  },
  {
   "cell_type": "code",
   "execution_count": 246,
   "id": "cbd45098",
   "metadata": {},
   "outputs": [
    {
     "name": "stdout",
     "output_type": "stream",
     "text": [
      "<class 'NoneType'>\n",
      "<class 'bool'>\n",
      "<class 'int'>\n",
      "<class 'float'>\n",
      "<class 'str'>\n",
      "<class 'tuple'>\n",
      "<class 'list'>\n",
      "<class 'dict'>\n"
     ]
    }
   ],
   "source": [
    "print(type(None))\n",
    "print(type(True))\n",
    "print(type(5))\n",
    "print(type(0.4))\n",
    "print(type('tyu'))\n",
    "print(type(()))\n",
    "print(type([]))\n",
    "print(type({}))"
   ]
  },
  {
   "cell_type": "markdown",
   "id": "b2c73fe5",
   "metadata": {},
   "source": [
    "## Modulus in python"
   ]
  },
  {
   "cell_type": "code",
   "execution_count": 247,
   "id": "8b52ab4c",
   "metadata": {},
   "outputs": [],
   "source": [
    "def multiply(num1,num2):\n",
    "    return num1*num2\n",
    "\n",
    "def multiply(num1,num2):\n",
    "    return num1*num2"
   ]
  },
  {
   "cell_type": "code",
   "execution_count": null,
   "id": "92daa494",
   "metadata": {},
   "outputs": [],
   "source": []
  },
  {
   "cell_type": "code",
   "execution_count": null,
   "id": "dd8b9582",
   "metadata": {},
   "outputs": [],
   "source": []
  },
  {
   "cell_type": "code",
   "execution_count": null,
   "id": "905e6016",
   "metadata": {},
   "outputs": [],
   "source": []
  },
  {
   "cell_type": "code",
   "execution_count": null,
   "id": "da3170c0",
   "metadata": {},
   "outputs": [],
   "source": []
  },
  {
   "cell_type": "code",
   "execution_count": null,
   "id": "003670c4",
   "metadata": {},
   "outputs": [],
   "source": []
  },
  {
   "cell_type": "code",
   "execution_count": null,
   "id": "c5e1f8c8",
   "metadata": {},
   "outputs": [],
   "source": []
  },
  {
   "cell_type": "code",
   "execution_count": null,
   "id": "7c86a3a2",
   "metadata": {},
   "outputs": [],
   "source": []
  },
  {
   "cell_type": "code",
   "execution_count": null,
   "id": "6bec6bf6",
   "metadata": {},
   "outputs": [],
   "source": []
  },
  {
   "cell_type": "code",
   "execution_count": null,
   "id": "1880e7eb",
   "metadata": {},
   "outputs": [],
   "source": []
  }
 ],
 "metadata": {
  "kernelspec": {
   "display_name": "Python 3",
   "language": "python",
   "name": "python3"
  },
  "language_info": {
   "codemirror_mode": {
    "name": "ipython",
    "version": 3
   },
   "file_extension": ".py",
   "mimetype": "text/x-python",
   "name": "python",
   "nbconvert_exporter": "python",
   "pygments_lexer": "ipython3",
   "version": "3.8.8"
  }
 },
 "nbformat": 4,
 "nbformat_minor": 5
}
